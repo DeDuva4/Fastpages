{
 "cells": [
  {
   "attachments": {},
   "cell_type": "markdown",
   "metadata": {},
   "source": [
    "# CB MCQ analysis\n",
    "\n",
    "- title: CB MCQ analysis\n",
    "- toc: true\n",
    "- badges: false\n",
    "- categories: [CB MCQ, Notes]\n",
    "- permalink: /cbmcq"
   ]
  },
  {
   "attachments": {},
   "cell_type": "markdown",
   "metadata": {},
   "source": [
    "![Q34](https://deduva4.github.io/Fastpages/images/Q34.png)\n",
    "Question 34: The answer I selected was 250, because I thought that a binary search would compare a value with two possible outcomes and split the group into a list that either satisfied or didn't satisfy said conditions. What actually happens is the after a complete binary search, the exact answer of 1 element will be found and examined. 10 is the answer because it is the closest to 1."
   ]
  },
  {
   "attachments": {},
   "cell_type": "markdown",
   "metadata": {},
   "source": [
    "![Q42](https://deduva4.github.io/Fastpages/images/Q42.png)\n",
    "Question 42: I selected the option A, because it included I and II, but I failed to realize that customers could give their inputs on a prototype design before it is constructed to make a more likeable design. Customer inputs are probably the most important when it comes to design."
   ]
  },
  {
   "attachments": {},
   "cell_type": "markdown",
   "metadata": {},
   "source": [
    "![Q49](https://deduva4.github.io/Fastpages/images/Q49.png)\n",
    "Question: 49: I know that there are certain problems that don't use logic, and computers won't be able to solve, but I was reminded of Mr. Mortenson's talk about ChatGPT, and how powerful artificial intelligence tools are becoming. I feel that if these AI tools become more advanced, they will be able to solve any problem that a human can solve, because they can be trained to do so. There are still some problems that humans will never be able to solve, such as making Tirth happy, and these tools will most likely not be able to solve some of them either. AI can do lots of things that we never expected so I don't know where it will get."
   ]
  }
 ],
 "metadata": {
  "kernelspec": {
   "display_name": "Python 3",
   "language": "python",
   "name": "python3"
  },
  "language_info": {
   "name": "python",
   "version": "3.9.12"
  },
  "orig_nbformat": 4,
  "vscode": {
   "interpreter": {
    "hash": "99e348d98b9989c8b01edaf9cf4dfd16099e6ff5dbc9821ceaff412487c45070"
   }
  }
 },
 "nbformat": 4,
 "nbformat_minor": 2
}
