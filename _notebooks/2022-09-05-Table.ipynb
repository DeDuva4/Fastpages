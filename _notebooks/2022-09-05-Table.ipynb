{
 "cells": [
  {
   "cell_type": "markdown",
   "metadata": {},
   "source": [
    "# Table\n",
    "\n",
    "- toc: true \n",
    "- badges: true\n",
    "- comments: true\n",
    "- categories: [jupyter, Markdown, Table]\n",
    "- title: Table"
   ]
  },
  {
   "cell_type": "markdown",
   "metadata": {},
   "source": [
    "|Period 1|Period 2|Period 3|Period 4|Period 5|\n",
    "|--------|--------|--------|--------|--------|\n",
    "|AP World|AP Calc | HSE3   |AP Chem | AP CSP |\n",
    "|        |        |        |        |        |\n",
    "|        |        |        |        |        |\n",
    "\n",
    "|Markdown Post|Jupyter Notebooks|Python|Period 4|Period 5|\n",
    "|-------------|--------|--------|--------|--------|\n",
    "|Markdown Posts are in Posts Folder, and end in .md.|Jupyter Notebooks are in Notebooks Folder and end in .ipynb. Must use proper naming with the date as a prefix in the file name.|Python is a coding language used by developers.|AP Chem | AP CSP |"
   ]
  }
 ],
 "metadata": {
  "kernelspec": {
   "display_name": "Python 3.10.4 64-bit",
   "language": "python",
   "name": "python3"
  },
  "language_info": {
   "name": "python",
   "version": "3.10.4"
  },
  "orig_nbformat": 4,
  "vscode": {
   "interpreter": {
    "hash": "916dbcbb3f70747c44a77c7bcd40155683ae19c65e1c03b4aa3499c5328201f1"
   }
  }
 },
 "nbformat": 4,
 "nbformat_minor": 2
}
