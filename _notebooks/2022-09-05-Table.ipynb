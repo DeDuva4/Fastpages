{
 "cells": [
  {
   "cell_type": "markdown",
   "metadata": {},
   "source": [
    "# Table\n",
    "\n",
    "- toc: true \n",
    "- badges: true\n",
    "- comments: true\n",
    "- categories: [jupyter, Markdown, Table]\n",
    "- title: Table"
   ]
  },
  {
   "cell_type": "markdown",
   "metadata": {},
   "source": [
    "|Period 1|Period 2|Period 3|Period 4|Period 5|\n",
    "|--------|--------|--------|--------|--------|\n",
    "|AP World|AP Calc | HSE3   |AP Chem | AP CSP |\n",
    "\n",
    "\n",
    "|Markdown Post|Jupyter Notebooks|Python|\n",
    "|-------------|--------|--------|\n",
    "|Markdown Posts are in Posts Folder, and end in .md.|Jupyter Notebooks are in Notebooks Folder and end in .ipynb. Must use proper naming with the date as a prefix in the file name.|Python is a coding language used by developers.|"
   ]
  }
 ],
 "metadata": {
  "kernelspec": {
   "display_name": "Python 3.9.12",
   "language": "python",
   "name": "python3"
  },
  "language_info": {
   "name": "python",
   "version": "3.9.12"
  },
  "orig_nbformat": 4,
  "vscode": {
   "interpreter": {
    "hash": "99e348d98b9989c8b01edaf9cf4dfd16099e6ff5dbc9821ceaff412487c45070"
   }
  }
 },
 "nbformat": 4,
 "nbformat_minor": 2
}
