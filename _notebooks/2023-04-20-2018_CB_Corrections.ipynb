{
 "cells": [
  {
   "attachments": {},
   "cell_type": "markdown",
   "metadata": {},
   "source": [
    "# CB 2018 Corrections\n",
    "\n",
    "- title: CB Big Idea 2 Corrections\n",
    "- toc: true\n",
    "- badges: false\n",
    "- categories: [CB MCQ, Notes, Corrections]\n",
    "- permalink: /cb2018"
   ]
  },
  {
   "attachments": {},
   "cell_type": "markdown",
   "metadata": {},
   "source": [
    "# Question 59:\n",
    "\n",
    "The answer is B because using lossy data storage is a way to transfer the libraries videos. This will also make the transfer much faster "
   ]
  }
 ],
 "metadata": {
  "language_info": {
   "name": "python"
  },
  "orig_nbformat": 4
 },
 "nbformat": 4,
 "nbformat_minor": 2
}
