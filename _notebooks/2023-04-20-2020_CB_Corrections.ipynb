{
 "cells": [
  {
   "attachments": {},
   "cell_type": "markdown",
   "metadata": {},
   "source": [
    "# CB 2020 Corrections\n",
    "\n",
    "- title: CB 2020 Corrections\n",
    "- toc: true\n",
    "- badges: false\n",
    "- categories: [CB MCQ, Notes, Corrections]\n",
    "- permalink: /cb2020"
   ]
  },
  {
   "attachments": {},
   "cell_type": "markdown",
   "metadata": {},
   "source": [
    "# Question 67:\n",
    "\n",
    "The answer is A and B because In B the code segment will return 1 instead of 2, which is not the intended result."
   ]
  }
 ],
 "metadata": {
  "language_info": {
   "name": "python"
  },
  "orig_nbformat": 4
 },
 "nbformat": 4,
 "nbformat_minor": 2
}
