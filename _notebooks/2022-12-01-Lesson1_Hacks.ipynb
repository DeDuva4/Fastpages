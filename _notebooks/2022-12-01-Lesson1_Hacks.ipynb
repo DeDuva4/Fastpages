{
 "cells": [
  {
   "cell_type": "markdown",
   "metadata": {},
   "source": [
    "# Lesson 1 Hacks\n",
    "> Markdown with the lesson 1 hacks\n",
    "- toc: true\n",
    "- badges: true\n",
    "- comments: true\n",
    "- categories: [jupyter, python]"
   ]
  },
  {
   "cell_type": "code",
   "execution_count": 2,
   "metadata": {},
   "outputs": [
    {
     "name": "stdout",
     "output_type": "stream",
     "text": [
      "Hello, deduva running /home/deduva/anaconda3/bin/python\n",
      "You will be asked 4 questions.\n",
      "Question: Are you ready to take a test?\n",
      "Question: The purpose of lists and dictionaries are to manage the ____ of a program\n",
      "complexity is correct!\n",
      "Question: Lists are a form of data ______\n",
      "abstraction is correct!\n",
      "Question: Which brackets are used to assign values to a variable to make a list?\n",
      "[] is correct!\n",
      "deduva you scored 4/4\n"
     ]
    }
   ],
   "source": [
    "import getpass, sys\n",
    "\n",
    "def question_with_response(prompt):\n",
    "    print(\"Question: \" + prompt)\n",
    "    msg = input()\n",
    "    return msg\n",
    "\n",
    "questions = 4\n",
    "correct = 0\n",
    "\n",
    "print('Hello, ' + getpass.getuser() + \" running \" + sys.executable)\n",
    "print(\"You will be asked \" + str(questions) + \" questions.\")\n",
    "question_with_response(\"Are you ready to take a test?\")\n",
    "\n",
    "rsp = question_with_response(\"The purpose of lists and dictionaries are to manage the ____ of a program\")\n",
    "if rsp == \"complexity\":\n",
    "    print(rsp + \" is correct!\")\n",
    "    correct += 1\n",
    "else:\n",
    "    print(rsp + \" is incorrect!\")\n",
    "\n",
    "rsp = question_with_response(\"Lists are a form of data ______\")\n",
    "if rsp == \"abstraction\":\n",
    "    print(rsp + \" is correct!\")\n",
    "    correct += 1\n",
    "else:\n",
    "    print(rsp + \" is incorrect!\")\n",
    "\n",
    "rsp = question_with_response(\"Which brackets are used to assign values to a variable to make a list?\")\n",
    "if rsp == \"[]\":\n",
    "    print(rsp + \" is correct!\")\n",
    "    correct += 2\n",
    "else:\n",
    "    print(rsp + \" is incorrect!\") \n",
    "\n",
    "print(getpass.getuser() + \" you scored \" + str(correct) +\"/\" + str(questions))"
   ]
  },
  {
   "cell_type": "code",
   "execution_count": null,
   "metadata": {},
   "outputs": [],
   "source": [
    "food1 = \"pizza\" \n",
    "food2 = \"hot dog\" \n",
    "food3 = \"sushi\"\n",
    "food4 = \"strawberry\"\n",
    "food5 = \"sandwich\"\n",
    "food_list = [food1 + food2 + food3 + food4 + food5]\n",
    "print(food_list)"
   ]
  },
  {
   "cell_type": "markdown",
   "metadata": {},
   "source": [
    "Above is the food list I simplified, and below is a new list that I made that retrieves the third index and displays it."
   ]
  },
  {
   "cell_type": "code",
   "execution_count": null,
   "metadata": {},
   "outputs": [],
   "source": [
    "food1 = \"Pizza\"\n",
    "food2 = \"Icecream\"\n",
    "food3 = \"Coffee\"\n",
    "food4 = \"Mangos\"\n",
    "food5 = \"Strawberries\"\n",
    "food_list = [food1, food2, food3, food4, food5]\n",
    "print(food_list[3])"
   ]
  },
  {
   "cell_type": "markdown",
   "metadata": {},
   "source": [
    "Below are all the questions and answers."
   ]
  },
  {
   "cell_type": "markdown",
   "metadata": {},
   "source": [
    "- In your **own** words, briefly explain by writing down what an assignment operator is\n",
    "\n",
    "- In Collegeboard pseudocode, what symbol is used to assign values to variables?\n",
    "\n",
    "- A variable, x, is initially given a value of 15. Later on, the value for x is changed to 22. If you print x, would the command display 15 or 22?\n",
    "\n",
    "1. An assignment operator is a symbol used to assign a value to a variable. For example = in python.\n",
    "\n",
    "2. An arrow to the left pointing from the value towards the variable it should be assigned to.\n",
    "\n",
    "3. The command would display 22, because variables are always the most recently assigned value.\n",
    "\n",
    "\n",
    "- There's more than one way to define the variable. List two ways to do it.\n",
    "\n",
    "1. You can define a variable using a number. For example: x = 5.\n",
    "\n",
    "2. You can also assign a prexisting variable to a new one. For example: x = 5, then y = x.\n",
    "\n",
    "\n",
    "* What is a list?\n",
    "\n",
    "* What is an element\n",
    "\n",
    "* What is an easy way to reference the elements in a list or string?\n",
    "\n",
    "* What is an example of a string?\n",
    "\n",
    "1. A list is a sequence of elements with each element being a variable.\n",
    "\n",
    "2. An element is a part of a list, and can be accessed using indexes.\n",
    "\n",
    "3. An easy way to reference the elements in a list or string is using indexes, which select an element in respect to their order in the list or string.\n",
    "\n",
    "4. An example of a string is \"You can put literally anything inside of quotation marks.\""
   ]
  }
 ],
 "metadata": {
  "kernelspec": {
   "display_name": "Python 3.9.12",
   "language": "python",
   "name": "python3"
  },
  "language_info": {
   "codemirror_mode": {
    "name": "ipython",
    "version": 3
   },
   "file_extension": ".py",
   "mimetype": "text/x-python",
   "name": "python",
   "nbconvert_exporter": "python",
   "pygments_lexer": "ipython3",
   "version": "3.9.12"
  },
  "orig_nbformat": 4,
  "vscode": {
   "interpreter": {
    "hash": "99e348d98b9989c8b01edaf9cf4dfd16099e6ff5dbc9821ceaff412487c45070"
   }
  }
 },
 "nbformat": 4,
 "nbformat_minor": 2
}
