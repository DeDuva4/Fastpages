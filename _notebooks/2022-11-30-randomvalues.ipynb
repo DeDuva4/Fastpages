{
 "cells": [
  {
   "cell_type": "markdown",
   "metadata": {},
   "source": [
    "# \"Unit 3 Sections 14 and 15\"\n",
    "> \"Libraries and Random Values\"\n",
    " \n",
    "- toc: true\n",
    "- branch: master\n",
    "- badges: true\n",
    "- comments: true\n",
    "- permalink: /jupyter/libraries\n",
    "- categories: [jupyter,markdown]"
   ]
  },
  {
   "cell_type": "markdown",
   "metadata": {},
   "source": [
    "<style>\n",
    "    .coolCode {\n",
    "        color: #FFFFFF;\n",
    "        font-family: monospace;\n",
    "        border: 1px solid #404040;\n",
    "        border-radius: 3px;\n",
    "        background-color: #212121;\n",
    "        padding: 1px 5px;\n",
    "        font-size: 20px\n",
    "    }\n",
    "</style>"
   ]
  },
  {
   "attachments": {},
   "cell_type": "markdown",
   "metadata": {},
   "source": [
    "### wget https://raw.githubusercontent.com/aidenhuynh/CS_Swag/master/_notebooks/2022-11-30-randomvalues.ipynb\n",
    "\n",
    "# Libraries\n",
    "\n",
    "* A library is a collection of precompiled codes that can be used later on in a program for some specific well-defined operations. \n",
    "* These precompiled codes can be referred to as modules. Each module contains bundles of code that can be used repeatedly in different programs.\n",
    "* A library may also contain documentation, configuration data, message templates, classes, and values, etc.\n",
    "\n",
    "### Why are libraries important?\n",
    "* Using Libraries makes Python Programming simpler and convenient for the programmer. \n",
    "* One example would be through looping and iteration, as we don’t need to write the same code again and again for different programs. \n",
    "* Python libraries play a very vital role in fields of Machine Learning, Data Science, Data Visualization, etc.\n",
    "\n",
    "### A few libraries that simplify coding processes:\n",
    "* **Pillow** allows you to work with images.\n",
    "* **Tensor Flow** helps with data automation and monitors performance.\n",
    "* **Matplotlib** allows you to make 2D graphs and plots.\n",
    "\n",
    "The AP Exam Refrence Sheet itself is a library!\n",
    "![Screenshot 2022-12-11 221853](https://user-images.githubusercontent.com/51098969/206974627-af98327c-d95d-4459-be67-cbaa3faaaa98.jpg)\n",
    "\n",
    "## Hacks:\n",
    "Research two other Python Libraries NOT DISCUSSED DURING LESSON and make a markdown post, explaining their function and how it helps programmers code.\n",
    "\n",
    "1. Matplotlib is a plotting library for creating static, animated, and interactive visualizations in Python. It provides a high-level interface for drawing attractive and informative statistical graphics. It can be used by programers to create good visuals and is a form of data abstraction.\n",
    "\n",
    "2. Pandas is a library for working with data frames in Python. A data frame is a two-dimensional data structure that consists of rows and columns. It is similar to a spreadsheet or a SQL table. This can be used by programers to easily create things such as the keypads from earlier weeks hacks.\n",
    "\n",
    "### API’s\n",
    "* An Application Program Interface, or API, contains specific direction for how the procedures in a library behave and can be used. \n",
    "* An API acts as a gateway for the imported procedures from a library to interact with the rest of your code.\n",
    "\n",
    "### Activity: Walkthrough with NumPy\n",
    "* Install NumPy on VSCode:\n",
    "    1. Open New Terminal In VSCode:\n",
    "    2. pip3 install --upgrade pip\n",
    "    3. pip install numpy \n",
    " \n",
    "REMEMBER: When running library code cells use Python Interpreter Conda (Version 3.9.12)\n",
    " \n",
    "### Example of using NumPy for arrays:"
   ]
  },
  {
   "cell_type": "code",
   "execution_count": 42,
   "metadata": {},
   "outputs": [
    {
     "name": "stdout",
     "output_type": "stream",
     "text": [
      "[[1 2 3]\n",
      " [4 5 6]\n",
      " [7 8 9]]\n"
     ]
    }
   ],
   "source": [
    "import numpy as np\n",
    "new_matrix = np.array([[1, 2, 3],[4, 5, 6],[7, 8, 9]])\n",
    " \n",
    "print (new_matrix)"
   ]
  },
  {
   "cell_type": "markdown",
   "metadata": {},
   "source": [
    "#### Example of using NumPy for derivatives:"
   ]
  },
  {
   "cell_type": "code",
   "execution_count": 43,
   "metadata": {},
   "outputs": [
    {
     "name": "stdout",
     "output_type": "stream",
     "text": [
      "Polynomial function, f(x):\n",
      "    2\n",
      "2 x + 1\n",
      "Derivative, f(x)'=  \n",
      "4 x\n",
      "When x=5  f(x)'= 20\n"
     ]
    }
   ],
   "source": [
    "import numpy as np\n",
    " \n",
    "# defining polynomial function\n",
    "var = np.poly1d([2, 0, 1])\n",
    "print(\"Polynomial function, f(x):\\n\", var)\n",
    " \n",
    "# calculating the derivative\n",
    "derivative = var.deriv()\n",
    "print(\"Derivative, f(x)'=\", derivative)\n",
    " \n",
    "# calculates the derivative of after\n",
    "# given value of x\n",
    "print(\"When x=5  f(x)'=\", derivative(5))"
   ]
  },
  {
   "cell_type": "markdown",
   "metadata": {},
   "source": [
    "## Random Values\n",
    "\n",
    "* Random number generation (RNG) produces a random number (crazy right?)\n",
    "    - This means that a procedure with RNG can return different values even if the parameters (inputs) do not change\n",
    "* CollegeBoard uses <code class=\"coolCode\">RANDOM(A, B)</code>, to return an integer between integers <code class=\"coolCode\">A</code> and <code class=\"coolCode\">B</code>.\n",
    "    - RANDOM(1, 10) can output 1, 2, 3, 4, 5, 6, 7, 8, 9, or 10\n",
    "    - In Python, this would be <code class=\"coolCode\">random.randint(A, B)</code>, after importing Python's \"random\" library (<code class=\"coolCode\">import random</code>)\n",
    "    - JavaScript's works a little differently, with <code class=\"coolCode\">Math.random()</code> returning a value between 0 and 1.\n",
    "        - To match Python and CollegeBoard, you could make a procedure like [this](https://stackoverflow.com/a/7228322)\n",
    "\n",
    "#### CollegeBoard Example: What is the possible range of values for *answ3*\n",
    "![CollegeBoard](https://i.ibb.co/Wt90Hbz/Screen-Shot-2022-12-12-at-7-27-58-AM.png)\n"
   ]
  },
  {
   "cell_type": "markdown",
   "metadata": {},
   "source": [
    "#### Convert the following procedure to Python, then determine the range of outputs if n = 5.\n",
    "<pre>\n",
    "<font color=white>\n",
    "PROCEDURE Dice(n)\n",
    "\tsum ← 0\n",
    "\tREPEAT UNTIL n = 0\n",
    "\t\tsum ← sum + RANDOM(1, 6)\n",
    "\t\tn ← n - 1\n",
    "\tRETURN sum\n",
    "</font>\n",
    "</pre>\n"
   ]
  },
  {
   "cell_type": "code",
   "execution_count": 44,
   "metadata": {},
   "outputs": [
    {
     "name": "stdout",
     "output_type": "stream",
     "text": [
      "22\n"
     ]
    }
   ],
   "source": [
    "import random # Fill in the blank\n",
    "n = 5\n",
    "def Dice(n):\n",
    "    result = random.randint(n, 6 * n)\n",
    "    print(result)\n",
    "Dice(5) # Will output a range of 5 to 30"
   ]
  },
  {
   "cell_type": "markdown",
   "metadata": {},
   "source": [
    "## Homework\n",
    "1. Write a procedure that generates *n* random numbers, then sorts those numbers into lists of even and odd numbers (JS or Python, Python will be easier).\n",
    "\n",
    "2. Using NumPy and only coding in python cell, find the answer to the following questions:\n",
    "    a. What is the derivative of 2x^5 - 6x^2 + 24x?\n",
    "    b. What is the derivative of (13x^4 + 4x^2) / 2 when x = 9? \n",
    "\n",
    "3. Suppose you have a group of 10 dogs and 10 cats, and you want to create a random order for them. Show how random number generation could be used to create this random order."
   ]
  },
  {
   "cell_type": "code",
   "execution_count": 45,
   "metadata": {},
   "outputs": [
    {
     "name": "stdout",
     "output_type": "stream",
     "text": [
      "Even numbers: 90, 96, 88, 44, 78, 42, 34, 44, 24, 50, \n",
      "Odd numbers: 77, 11, 33, 61, 35, 65, 13, 99, 57, 29, 90, 96, 88, 44, 78, 42, 34, 44, 24, 50, \n"
     ]
    }
   ],
   "source": [
    "import random\n",
    "\n",
    "def sort_numbers(n):\n",
    "    # Generate n random numbers\n",
    "    numbers = [random.randint(1, 100) for _ in range(n)]\n",
    "\n",
    "    # Sort the numbers into two lists, one for even numbers and one for odd numbers\n",
    "    even_numbers = [num for num in numbers if num % 2 == 0]\n",
    "    odd_numbers = [num for num in numbers if num % 2 != 0]\n",
    "\n",
    "    readable = \"\"\n",
    "    for num in even_numbers:\n",
    "        readable = str(num) + \", \" + readable\n",
    "    print(\"Even numbers:\", readable)\n",
    "    \n",
    "    for num in odd_numbers:\n",
    "        readable = str(num) + \", \" + readable\n",
    "    print(\"Odd numbers:\", readable)\n",
    "\n",
    "sort_numbers(20)"
   ]
  },
  {
   "cell_type": "code",
   "execution_count": 56,
   "metadata": {},
   "outputs": [
    {
     "name": "stdout",
     "output_type": "stream",
     "text": [
      "The derivative of 2x^5 - 6x^2 + 24x is:\n",
      "    4      2\n",
      "10 x - 18 x + 24\n",
      "\n",
      "\n",
      "The derivative of (13x^4 + 4x^2) / 2 when x = 9 is -51759.0\n"
     ]
    }
   ],
   "source": [
    "import numpy as np\n",
    "\n",
    "# Create a poly1d object for the polynomial 2x^5 - 6x^2 + 24x\n",
    "p = np.poly1d([2, 0, -6, 0, 24, 0])\n",
    "\n",
    "# Compute the derivative of the polynomial using the deriv method\n",
    "dp = p.deriv()\n",
    "\n",
    "# Print the result\n",
    "print(\"The derivative of 2x^5 - 6x^2 + 24x is:\")\n",
    "print(dp)\n",
    "\n",
    "print()\n",
    "# Second derivative\n",
    "print()\n",
    "\n",
    "# Create a poly1d object for the polynomial (13x^4 + 4x^2) / 2\n",
    "p = np.poly1d([13, 0, 0, 4, 0, 0], True)\n",
    "\n",
    "# Evaluate the polynomial at x = 9 using the __call__ method\n",
    "p9 = p(9)\n",
    "\n",
    "# Compute the derivative of the polynomial using the deriv method\n",
    "dp = p.deriv()\n",
    "\n",
    "# Print the result\n",
    "print(f\"The derivative of (13x^4 + 4x^2) / 2 when x = 9 is {dp(9)}\")"
   ]
  }
 ],
 "metadata": {
  "kernelspec": {
   "display_name": "Python 3",
   "language": "python",
   "name": "python3"
  },
  "language_info": {
   "codemirror_mode": {
    "name": "ipython",
    "version": 3
   },
   "file_extension": ".py",
   "mimetype": "text/x-python",
   "name": "python",
   "nbconvert_exporter": "python",
   "pygments_lexer": "ipython3",
   "version": "3.9.12"
  },
  "orig_nbformat": 4,
  "vscode": {
   "interpreter": {
    "hash": "99e348d98b9989c8b01edaf9cf4dfd16099e6ff5dbc9821ceaff412487c45070"
   }
  }
 },
 "nbformat": 4,
 "nbformat_minor": 2
}
