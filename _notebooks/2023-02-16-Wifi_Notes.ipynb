{
 "cells": [
  {
   "attachments": {},
   "cell_type": "markdown",
   "metadata": {},
   "source": [
    "- When we connect to any wifi we use the DHCP protocol\n",
    "- We first connect to the frontend URL\n",
    "- We activate our browser and it connects to the frontend\n",
    "- Domain names refer to IP address\n",
    "- DNS lookup\n",
    "- Github IO server\n",
    "- Fetch from frontend using a URL returns JSON to frontend\n",
    "- Show and explain the behind the scenes for N@TM\n",
    "- Make flow charts or poster\n",
    "- Postman Post and Read demonstration\n",
    "- SQL table to show data in tables. Can run SQLite 3 and refresh table after deployment\n",
    "- N@TM is a job interview type of environment that tests our presentation skills and talking in a professional manner\n",
    "- Could obtain internships using these frontend/backend skills\n",
    "- Elevator speeches are 1 minute pitches that display and show your skills"
   ]
  }
 ],
 "metadata": {
  "kernelspec": {
   "display_name": "Python 3",
   "language": "python",
   "name": "python3"
  },
  "language_info": {
   "name": "python",
   "version": "3.9.12"
  },
  "orig_nbformat": 4,
  "vscode": {
   "interpreter": {
    "hash": "99e348d98b9989c8b01edaf9cf4dfd16099e6ff5dbc9821ceaff412487c45070"
   }
  }
 },
 "nbformat": 4,
 "nbformat_minor": 2
}
