{
 "cells": [
  {
   "cell_type": "code",
   "execution_count": 2,
   "metadata": {},
   "outputs": [
    {
     "name": "stdout",
     "output_type": "stream",
     "text": [
      "[{'FirstName': 'Dhruva', 'LastName': 'Iyer', 'DOB': 'June 8th', 'Residence': '4S Ranch', 'Email': 'dhruvasiyer@gmail.com', 'Owns_Cars': 'None'}]\n"
     ]
    }
   ],
   "source": [
    "InfoDb = []\n",
    "InfoDb.append({\n",
    "    \"FirstName\": \"Dhruva\",\n",
    "    \"LastName\": \"Iyer\",\n",
    "    \"DOB\": \"June 8th\",\n",
    "    \"Residence\": \"4S Ranch\",\n",
    "    \"Email\": \"dhruvasiyer@gmail.com\",\n",
    "    \"Owns_Cars\": \"None\"\n",
    "})\n",
    "print(InfoDb)"
   ]
  },
  {
   "cell_type": "code",
   "execution_count": null,
   "metadata": {
    "vscode": {
     "languageId": "html"
    }
   },
   "outputs": [],
   "source": [
    "<Header>\n",
    "    Another Quiz\n",
    "</Header>\n",
    "\n",
    "<Body>\n",
    "        This is another Quiz I created using dictionaries, for loops, and lists.\n",
    "</Body>"
   ]
  },
  {
   "cell_type": "code",
   "execution_count": 14,
   "metadata": {},
   "outputs": [
    {
     "name": "stdout",
     "output_type": "stream",
     "text": [
      "[{'Question 1': 'What year was Elon Musk Born?', 'Answer 1': '1971', 'Question 2': 'When was the latest LaFerrari released?', 'Answer 2': '2013', 'Question 3': 'When did astronauts first land on the moon?', 'Answer 3': '1969'}]\n"
     ]
    }
   ],
   "source": [
    "InfoDb = []\n",
    "InfoDb.append({\n",
    "    \"Question 1\": \"What year was Elon Musk Born?\",\n",
    "    \"Answer 1\": \"1971\",\n",
    "    \"Question 2\": \"When was the latest LaFerrari released?\",\n",
    "    \"Answer 2\": \"2013\",\n",
    "    \"Question 3\": \"When did astronauts first land on the moon?\",\n",
    "    \"Answer 3\": \"1969\",\n",
    "})\n",
    "\n",
    "print(InfoDb)"
   ]
  }
 ],
 "metadata": {
  "kernelspec": {
   "display_name": "Python 3.10.4 64-bit",
   "language": "python",
   "name": "python3"
  },
  "language_info": {
   "codemirror_mode": {
    "name": "ipython",
    "version": 3
   },
   "file_extension": ".py",
   "mimetype": "text/x-python",
   "name": "python",
   "nbconvert_exporter": "python",
   "pygments_lexer": "ipython3",
   "version": "3.10.4"
  },
  "orig_nbformat": 4,
  "vscode": {
   "interpreter": {
    "hash": "916dbcbb3f70747c44a77c7bcd40155683ae19c65e1c03b4aa3499c5328201f1"
   }
  }
 },
 "nbformat": 4,
 "nbformat_minor": 2
}
