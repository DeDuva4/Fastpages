{
 "cells": [
  {
   "attachments": {},
   "cell_type": "markdown",
   "metadata": {},
   "source": [
    "# About user page\n",
    "\n",
    "- title: User Page Blog\n",
    "- toc: true\n",
    "- badges: false\n",
    "- categories: [Feature, CPT, Notes]\n",
    "- permalink: /userpageblog"
   ]
  },
  {
   "attachments": {},
   "cell_type": "markdown",
   "metadata": {},
   "source": [
    "# The Actual Features\n",
    "The feature that I will be working on in the coming weeks is an user information page. This page will contain information about the user including their username, email, and highscore. This page will have an API that gets user information from a database and organizes it neatly to show it to the user. This page will also allow the user to change certain information such as their email and username. They will not however, be able to change their password, as that will be a very difficult feature to make secure. This will have API endpoints for updating the username and email, and an API that retrieves this information from the database. This will also process the data and show a users ranking in the game, and how well they are doing when compared to the rest of the players.\n",
    "\n",
    "# College Board Criteria\n",
    "My feature will have an API and its endpoints as previously described, along with a program that calculates a users position overall amongst other players, and their rank. This will utilize procedural abstraction using lists and loops."
   ]
  }
 ],
 "metadata": {
  "kernelspec": {
   "display_name": "Python 3",
   "language": "python",
   "name": "python3"
  },
  "language_info": {
   "name": "python",
   "version": "3.9.12 (main, Apr  5 2022, 06:56:58) \n[GCC 7.5.0]"
  },
  "orig_nbformat": 4,
  "vscode": {
   "interpreter": {
    "hash": "99e348d98b9989c8b01edaf9cf4dfd16099e6ff5dbc9821ceaff412487c45070"
   }
  }
 },
 "nbformat": 4,
 "nbformat_minor": 2
}
