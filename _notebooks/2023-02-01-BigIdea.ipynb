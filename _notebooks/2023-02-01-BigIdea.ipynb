{
 "cells": [
  {
   "attachments": {},
   "cell_type": "markdown",
   "metadata": {},
   "source": [
    "# 5.3 and 5.4 Discussion Notes\n",
    "\n",
    "- title: 5.3 and 5.4 Discussion Notes\n",
    "- toc: true\n",
    "- badges: false\n",
    "- categories: [Big Idea, 5.3, 5.4, Notes, Discussion]\n",
    "- permalink: /BigIdea53"
   ]
  },
  {
   "attachments": {},
   "cell_type": "markdown",
   "metadata": {},
   "source": [
    "\n",
    "# What age groups use Facebook vs TikTok?\n",
    "\n",
    "- 67% of teens have claimed to have ever used Tiktok\n",
    "- 16% of all teens claimed to use tiktok almost constantly\n",
    "- Teens using Facebook plummeted from 71% to 32%\n",
    "- 95% of teens use youtube\n",
    "- Teens contribute massive usage of social media\n",
    "\n",
    "#### Analysis\n",
    "\n",
    "Typically younger people will gravitate toward tiktok and youtube, whearas older people would use facebook. This is because teens like new things"
   ]
  },
  {
   "attachments": {},
   "cell_type": "markdown",
   "metadata": {},
   "source": [
    "# Why do virtual assistants have female voices\n",
    "\n",
    "- Companies have spent lots more time collecting voice samples from females\n",
    "- Female voices tend to articulate better and are usually easier to understand\n",
    "- Can be harmful because kids can get influenced to expecting a female assistant\n",
    "\n",
    "#### Analysis\n",
    "\n",
    "There are many reasons why female voices are mostly used, but the most prominant is probably that females voice data was collected, and its easier to understand. It is just easier to make a female voiced, virtual assistant than a mans voice, in todays day and age."
   ]
  },
  {
   "attachments": {},
   "cell_type": "markdown",
   "metadata": {},
   "source": [
    "# Algorithms influences your descisions\n",
    "\n",
    "- Algorithms are designed to keep you on the application for as long as possible in order to show you as many advertisements as possible.\n",
    "\n",
    "#### Analysis\n",
    "\n",
    "These algorithms can be very harmful because they are designed to make you waste as much time as possible. They make you unproductive as they suck up all of your time and attention into useless things that you would probably forget the next day."
   ]
  },
  {
   "attachments": {},
   "cell_type": "markdown",
   "metadata": {},
   "source": [
    "# HP Computers are racist pair activity.\n",
    "\n",
    "The HP webcam was not able to detect a black person, because it was not trained with that skin tone. It does not have experience on what to do with certain colored people, and therefore the system stopped working."
   ]
  },
  {
   "attachments": {},
   "cell_type": "markdown",
   "metadata": {},
   "source": [
    "# Crowdsourcing"
   ]
  }
 ],
 "metadata": {
  "kernelspec": {
   "display_name": "Python 3",
   "language": "python",
   "name": "python3"
  },
  "language_info": {
   "name": "python",
   "version": "3.9.12"
  },
  "orig_nbformat": 4,
  "vscode": {
   "interpreter": {
    "hash": "99e348d98b9989c8b01edaf9cf4dfd16099e6ff5dbc9821ceaff412487c45070"
   }
  }
 },
 "nbformat": 4,
 "nbformat_minor": 2
}
