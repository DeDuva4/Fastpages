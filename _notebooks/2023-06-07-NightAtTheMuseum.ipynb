{
 "cells": [
  {
   "attachments": {},
   "cell_type": "markdown",
   "metadata": {},
   "source": [
    "# Trimester 3 Night At The Museum\n",
    "\n",
    "- toc: true \n",
    "- badges: true\n",
    "- comments: true\n",
    "- categories: [jupyter, blog, night]\n",
    "- title: Trimester 3 Night At The Museum"
   ]
  },
  {
   "attachments": {},
   "cell_type": "markdown",
   "metadata": {},
   "source": [
    "I had a good time at this Night at the Museum. I showed my groups projects to a few friends and even Mr. Yeung. I saw some other groups projects and there was even a rasberry pie. I also saw some pottery which I thought was really cool."
   ]
  }
 ],
 "metadata": {
  "language_info": {
   "name": "python"
  },
  "orig_nbformat": 4
 },
 "nbformat": 4,
 "nbformat_minor": 2
}
