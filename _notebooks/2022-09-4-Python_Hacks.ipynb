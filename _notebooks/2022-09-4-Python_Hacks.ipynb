{
 "cells": [
  {
   "cell_type": "markdown",
   "metadata": {},
   "source": [
    "# Python Hacks\n",
    "\n",
    "- toc: true \n",
    "- badges: true\n",
    "- comments: true\n",
    "- categories: [jupyter]\n",
    "- title: Python Hacks"
   ]
  },
  {
   "cell_type": "code",
   "execution_count": 24,
   "metadata": {},
   "outputs": [
    {
     "name": "stdout",
     "output_type": "stream",
     "text": [
      "{'FirstName': 'Dhruva', 'LastName': 'Iyer', 'DOB': 'June 8th', 'Residence': 'San Diego', 'Email': 'dhruvasiyer@gmail.com', 'Owns_Cars': None}\n",
      "next .....\n",
      "{'FirstName': 'Kanishka', 'LastName': 'Iyer', 'DOB': 'June 20th', 'Residence': 'San Diego', 'Email': 'kk@gmail.com', 'Owns_Cars': None}\n",
      "next .....\n",
      "{'FirstName': 'Ravi', 'LastName': 'Iyer', 'DOB': 'June 10th', 'Residence': 'San Diego', 'Email': 'rr@gmail.com', 'Owns_Cars': ['r_car1', 'r_car2']}\n",
      "next .....\n"
     ]
    }
   ],
   "source": [
    "# Define an empty List called InfoDb\n",
    "\n",
    "InfoDb = []\n",
    "\n",
    "# Append to List a Dictionary of key/values related to a person and cars\n",
    "InfoDb.append({\n",
    "    \"FirstName\": \"Dhruva\",\n",
    "    \"LastName\": \"Iyer\",\n",
    "    \"DOB\": \"June 8th\",\n",
    "    \"Residence\": \"San Diego\",\n",
    "    \"Email\": \"dhruvasiyer@gmail.com\",\n",
    "    \"Owns_Cars\": None\n",
    "})\n",
    "\n",
    "InfoDb.append({\n",
    "    \"FirstName\": \"Kanishka\",\n",
    "    \"LastName\": \"Iyer\",\n",
    "    \"DOB\": \"June 20th\",\n",
    "    \"Residence\": \"San Diego\",\n",
    "    \"Email\": \"kk@gmail.com\",\n",
    "    \"Owns_Cars\": None\n",
    "})\n",
    "\n",
    "InfoDb.append({\n",
    "    \"FirstName\": \"Ravi\",\n",
    "    \"LastName\": \"Iyer\",\n",
    "    \"DOB\": \"June 10th\",\n",
    "    \"Residence\": \"San Diego\",\n",
    "    \"Email\": \"rr@gmail.com\",\n",
    "    \"Owns_Cars\": ['r_car1', 'r_car2']\n",
    "})\n",
    "\n",
    "for rec in InfoDb:\n",
    "    print(rec)\n",
    "    print(\"next .....\")"
   ]
  },
  {
   "cell_type": "code",
   "execution_count": 26,
   "metadata": {},
   "outputs": [
    {
     "name": "stdout",
     "output_type": "stream",
     "text": [
      "test 1\n",
      "Ravi   Iyer\n",
      "test 2\n",
      "         Name:  Ravi   Iyer\n",
      "Date of Birth:  June 10th\n",
      "    Residence:  San Diego\n",
      "test_3\n",
      "record found but incorrect mode specified\n",
      "test_4\n",
      "record NOT found\n"
     ]
    }
   ],
   "source": [
    "# this block will show the info about record identified through \"key\" firstname. Two modes are \n",
    "# supported - summary/detailed\n",
    "\n",
    "def print_by_first_name(list_to_lookup, key_to_look, keyword, mode_info):\n",
    "    if keyword == rec[key_to_look]:\n",
    "\n",
    "def print_by_first_name(list_to_lookup, firstname_key, mode_info):\n",
    "    rec_found_flag = 0\n",
    "    for rec in list_to_lookup:\n",
    "        if firstname_key == rec['FirstName']:\n",
    "            rec_found_flag = 1\n",
    "            # record is found, now print depending on the mode\n",
    "            if mode_info == 'summary':\n",
    "                print(rec['FirstName'],\" \",rec['LastName'])\n",
    "            elif mode_info == 'detailed':\n",
    "                print('         Name: ', rec['FirstName'],\" \",rec['LastName'])\n",
    "                print('Date of Birth: ', rec['DOB'])\n",
    "                print('    Residence: ', rec['Residence'])\n",
    "            else:\n",
    "                print('record found but incorrect mode specified')\n",
    "        \n",
    "    if rec_found_flag == 0:\n",
    "        print('record NOT found')\n",
    "\n",
    "\n",
    "print('test 1')\n",
    "print_by_first_name(InfoDb,'Ravi','summary')\n",
    "print('test 2')\n",
    "print_by_first_name(InfoDb,'Ravi','detailed')\n",
    "print('test_3')\n",
    "print_by_first_name(InfoDb,'Dhruva','dumb')\n",
    "print('test_4')\n",
    "print_by_first_name(InfoDb,'Dhruva1','dumb')\n",
    "\n",
    "\n",
    "\n"
   ]
  },
  {
   "cell_type": "code",
   "execution_count": null,
   "metadata": {},
   "outputs": [],
   "source": [
    "correct_answer_tracker = 0\n",
    "questions_to_ask = 0\n",
    "questions_asked = 0\n",
    "\n",
    "\n",
    "\n",
    "#Question 1\n",
    "user_input_1 = input(\"What is Dhruva's DOB?\")\n",
    "correct_answer_1 = \"June 8th\"\n",
    "questions_asked+=1\n",
    "if user_input_1 == correct_answer_1:\n",
    "    print(\"You are correct my friend\")\n",
    "    correct_answer_tracker+=1\n",
    "else:\n",
    "    print(\"Wrong answer\")\n",
    "\n",
    "\n",
    "print(\"You answered\", correct_answer_tracker,\"/\", questions_asked, \"correct\")\n",
    "\n",
    "\n"
   ]
  },
  {
   "cell_type": "code",
   "execution_count": 23,
   "metadata": {},
   "outputs": [
    {
     "name": "stdout",
     "output_type": "stream",
     "text": [
      "[{'FirstName': 'Dhruva', 'LastName': 'Iyer', 'DOB': 'June 8th', 'Residence': 'San Diego', 'Email': 'dhruvasiyer@gmail.com', 'Owns_Cars': None}, {'FirstName': 'Kanishka', 'LastName': 'Iyer', 'DOB': 'June 8th', 'Residence': 'San Diego', 'Email': 'dhruvasiyer@gmail.com', 'Owns_Cars': None}]\n",
      "Wrong answer\n",
      "Wrong answer\n",
      "You answered 0 / 2\n"
     ]
    }
   ],
   "source": [
    "def ask_question(question_to_be_asked, correct_answer, correct_answers):\n",
    "    user_input = input(question_to_be_asked)\n",
    "    if user_input == correct_answer:\n",
    "        print(\"You are correct\")\n",
    "        correct_answers+=1\n",
    "    else:\n",
    "        print(\"Wrong answer\")\n",
    "    return correct_answers\n",
    "# the following code uses predefined Q/A pair to illustrate\n",
    "# using them for query\n",
    "list_of_QA = [\n",
    "{'Question': \"What is Dhruva's DOB?\", 'Answer': \"June 8th\"},\n",
    "{'Question': \"What is Kanishka's DOB?\", 'Answer': \"June 20th\"}\n",
    "]\n",
    "correct_answer_tracker = 0\n",
    "questions_to_ask = len(list_of_QA)\n",
    "questions_asked = 0\n",
    "for item_in_QA in list_of_QA:\n",
    "    correct_answer_tracker = ask_question(item_in_QA['Question'], item_in_QA['Answer'], correct_answer_tracker)\n",
    "    questions_asked +=1 \n",
    "# Exception Handling\n",
    "if questions_asked != questions_to_ask:\n",
    "    print(\"WARNING: not all questions asked...\")\n",
    "print(\"You answered\", correct_answer_tracker,\"/\", questions_asked)\n",
    "\n",
    "# the next example would show how to create questions out of user database\n",
    "\n"
   ]
  }
 ],
 "metadata": {
  "kernelspec": {
   "display_name": "Python 3.10.4 64-bit",
   "language": "python",
   "name": "python3"
  },
  "language_info": {
   "codemirror_mode": {
    "name": "ipython",
    "version": 3
   },
   "file_extension": ".py",
   "mimetype": "text/x-python",
   "name": "python",
   "nbconvert_exporter": "python",
   "pygments_lexer": "ipython3",
   "version": "3.10.4"
  },
  "orig_nbformat": 4,
  "vscode": {
   "interpreter": {
    "hash": "916dbcbb3f70747c44a77c7bcd40155683ae19c65e1c03b4aa3499c5328201f1"
   }
  }
 },
 "nbformat": 4,
 "nbformat_minor": 2
}
