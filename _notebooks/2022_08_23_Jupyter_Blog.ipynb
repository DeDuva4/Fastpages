{
  "cells": [
    {
      "cell_type": "markdown",
      "metadata": {
        "id": "A0qi3YnFfUVx"
      },
      "source": [
        "  #Jupyter Blog\n",
        "  Hello, this is my blog. I am currently learning AP CSP and have made this blog to practice using Jupyter Notebooks and Fastpages.\n",
        "\n",
        "  Created by Dhruva\n",
        "\n"
      ]
    },
    {
      "cell_type": "markdown",
      "metadata": {},
      "source": [
        "  #Jupyter Blog\n",
        "  Hello, this is my blog. I am currently learning AP CSP and have made this blog to practice using Jupyter Notebooks and Fastpages. This is a Jupyter Notebook.\n",
        "\n",
        "  Created by Dhruva\n"
      ]
    }
  ],
  "metadata": {
    "colab": {
      "name": "2022-08-23-Jupyter Blog.ipynb",
      "provenance": []
    },
    "kernelspec": {
      "display_name": "Python 3",
      "name": "python3"
    },
    "language_info": {
      "name": "python"
    }
  },
  "nbformat": 4,
  "nbformat_minor": 0
}
