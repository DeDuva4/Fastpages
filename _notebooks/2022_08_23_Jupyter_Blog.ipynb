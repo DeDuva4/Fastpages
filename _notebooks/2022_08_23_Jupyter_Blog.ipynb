{
  "nbformat": 4,
  "nbformat_minor": 0,
  "metadata": {
    "colab": {
      "name": "2022-08-23-Jupyter Blog.ipynb",
      "provenance": []
    },
    "kernelspec": {
      "name": "python3",
      "display_name": "Python 3"
    },
    "language_info": {
      "name": "python"
    }
  },
  "cells": [
    {
      "cell_type": "markdown",
      "source": [
        "  #Jupyter Blog\n",
        "  Hello, this is my blog. We are currently learning AP CSP and have made this blog to practice using Jupyter Notebooks and Fastpages.\n",
        "\n",
        "  Created by Dhruva and Prasith\n",
        "\n"
      ],
      "metadata": {
        "id": "A0qi3YnFfUVx"
      }
    }
  ]
}
