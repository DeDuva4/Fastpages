{
 "cells": [
  {
   "cell_type": "markdown",
   "metadata": {},
   "source": [
    "# Quiz 2\n",
    "\n",
    "- toc: true \n",
    "- badges: true\n",
    "- comments: true\n",
    "- categories: [jupyter, python]\n",
    "- title: Quiz 2"
   ]
  },
  {
   "cell_type": "markdown",
   "metadata": {},
   "source": [
    "The following cell creates a list of dictionaries with information about me and my brother Kanishka. This acts as a database for my quiz function to refer to."
   ]
  },
  {
   "cell_type": "code",
   "execution_count": 30,
   "metadata": {},
   "outputs": [],
   "source": [
    "# This cell creates and adds to a Quiz Database list of dictionaries\n",
    "\n",
    "QuizDb = []\n",
    "\n",
    "# Dhruva's Info\n",
    "QuizDb.append({\n",
    "    \"Firstname\": \"Dhruva\",\n",
    "    \"Lastname\": \"Iyer\",\n",
    "    \"Age\": \"15\",\n",
    "    \"Height\": \"68 inches\"\n",
    "})\n",
    "\n",
    "# Kanishka's Info\n",
    "QuizDb.append({\n",
    "    \"Firstname\": \"Kanishka\",\n",
    "    \"Lastname\": \"Iyer\",\n",
    "    \"Age\": \"13\",\n",
    "    \"Weight\": \"80 pounds\"\n",
    "})"
   ]
  },
  {
   "cell_type": "markdown",
   "metadata": {},
   "source": [
    "I created this function which asks questions like a quiz about a list of dictionaries that is given to it. This will take the dictionaries created above and convert them into a series of questions."
   ]
  },
  {
   "cell_type": "code",
   "execution_count": 31,
   "metadata": {},
   "outputs": [
    {
     "name": "stdout",
     "output_type": "stream",
     "text": [
      "Your answer is correct\n",
      "Your answer is correct\n",
      "Your answer is correct\n",
      "Your answer is correct\n",
      "Your answer is correct\n",
      "Your answer is correct\n",
      "you answered:  6 / 6\n"
     ]
    }
   ],
   "source": [
    "# This cell defines a function that I will use to execute the quiz\n",
    "\n",
    "def ask_questions(QDb):\n",
    "    correct_cnt = 0\n",
    "    total_cnt = 0\n",
    "    for dict_item in QDb:\n",
    "        person_name = dict_item['Firstname']\n",
    "        for key in dict_item:\n",
    "            if key == 'Firstname':\n",
    "                continue\n",
    "            else:\n",
    "                question = \"what is \" + person_name + \"'s \" + key\n",
    "                correct_answer = dict_item[key]  \n",
    "                user_answer = input(question)\n",
    "                if user_answer == \"exit\":\n",
    "                    break\n",
    "                total_cnt += 1\n",
    "                if correct_answer == user_answer:\n",
    "                    correct_cnt += 1\n",
    "                    print(\"Your answer is correct\")\n",
    "                \n",
    "                else:\n",
    "                    print(\"Your answer is incorrect\")\n",
    "                \n",
    "        if user_answer == \"exit\":\n",
    "            print(\"Bye!\")\n",
    "            break\n",
    "    print('you answered: ', correct_cnt, '/', total_cnt, \"Correct\")\n",
    "\n",
    "ask_questions(QuizDb)"
   ]
  },
  {
   "cell_type": "markdown",
   "metadata": {},
   "source": [
    "This is a simple while loop function that takes two integers that you give it, and inclusively lists all the integers in between them from least to greatest. The first integer must be less than the second integer."
   ]
  },
  {
   "cell_type": "code",
   "execution_count": 33,
   "metadata": {},
   "outputs": [
    {
     "name": "stdout",
     "output_type": "stream",
     "text": [
      "Here are your numbers!!!\n",
      "10\n",
      "11\n",
      "12\n",
      "13\n",
      "14\n",
      "15\n",
      "16\n",
      "17\n",
      "18\n",
      "19\n",
      "20\n",
      "21\n",
      "22\n",
      "23\n",
      "24\n",
      "25\n"
     ]
    }
   ],
   "source": [
    "# This cell has a while loop\n",
    "\n",
    "def list_num_inclusive(x,y):\n",
    "    \n",
    "    x = int(x)\n",
    "    y = int(y)\n",
    "    \n",
    "    if x >= y:\n",
    "        print(\"ERROR!!! Starting value must be less than ending value. Please try again.\")\n",
    "    else:\n",
    "        print(\"Here are your numbers!!!\")\n",
    "    while x <= y:\n",
    "        print(x)\n",
    "        x += 1\n",
    "\n",
    "starting_value = input(\"What is the starting value? (Inclusive\")\n",
    "ending_value = input(\"What is the ending value? (Inclusive\")\n",
    "\n",
    "list_num_inclusive(starting_value, ending_value)"
   ]
  },
  {
   "cell_type": "markdown",
   "metadata": {},
   "source": [
    "This is a function that uses a recursive loop, which means that when the function is defined, it calls for itself. This can create a loop that repeats itself until a specific condition is met. In this case takes a dictionary value and increments itself while adding itself to a sum. This creates a factorial like function, but for addition. For example if you input 1 into this function, it will take 1+2+3+4+5 = 15."
   ]
  },
  {
   "cell_type": "code",
   "execution_count": 62,
   "metadata": {},
   "outputs": [
    {
     "name": "stdout",
     "output_type": "stream",
     "text": [
      "2\n",
      "3\n",
      "4\n",
      "inside example_recursive_dict, val is:  0\n",
      "inside example_recursive_dict, val is:  1\n",
      "inside example_recursive_dict, val is:  2\n",
      "inside example_recursive_dict, val is:  3\n",
      "inside example_recursive_dict, val is:  4\n",
      "inside example_recursive_dict, val is:  5\n",
      "End of recursive loop\n",
      "summation is done, value is:  15\n"
     ]
    }
   ],
   "source": [
    "def example_recursive(x):\n",
    "    x = int(x)\n",
    "    if x < 10:\n",
    "        x += 1\n",
    "        x=example_recursive(x)\n",
    "    else:\n",
    "        print(\"End of recursive loop\")\n",
    "    return x\n",
    "\n",
    "def example_recursive_dict(dict_obj, NN):\n",
    "    #dict_obj['val'] = int(dict_obj['val'])\n",
    "    print('inside example_recursive_dict, val is: ',dict_obj['val'])\n",
    "    if dict_obj['val'] < NN:        \n",
    "        dict_obj['val'] += 1\n",
    "        dict_obj['sum'] += dict_obj['val'] \n",
    "        #print('inside if')\n",
    "        example_recursive_dict(dict_obj, NN)\n",
    "    else:\n",
    "        print(\"End of recursive loop\")\n",
    "    \n",
    "\n",
    "#recursive_var = input(\"What number should we start with?\")\n",
    "#recursive_var=example_recursive(recursive_var)\n",
    "#print(recursive_var)\n",
    "\n",
    "\n",
    "def example_by_reference(dict_obj):\n",
    "    dict_obj['val'] += 1\n",
    "\n",
    "dict_test = {'val': 2, 'sum': 0}\n",
    "print(dict_test['val'])\n",
    "example_by_reference(dict_test)\n",
    "print(dict_test['val'])\n",
    "example_by_reference(dict_test)\n",
    "print(dict_test['val'])\n",
    "dict_test['val'] = 0\n",
    "dict_test['sum'] = 0\n",
    "example_recursive_dict(dict_test, 5)\n",
    "print('summation is done, value is: ', dict_test['sum'])\n"
   ]
  }
 ],
 "metadata": {
  "kernelspec": {
   "display_name": "Python 3.10.4 64-bit",
   "language": "python",
   "name": "python3"
  },
  "language_info": {
   "codemirror_mode": {
    "name": "ipython",
    "version": 3
   },
   "file_extension": ".py",
   "mimetype": "text/x-python",
   "name": "python",
   "nbconvert_exporter": "python",
   "pygments_lexer": "ipython3",
   "version": "3.10.6"
  },
  "orig_nbformat": 4,
  "vscode": {
   "interpreter": {
    "hash": "916dbcbb3f70747c44a77c7bcd40155683ae19c65e1c03b4aa3499c5328201f1"
   }
  }
 },
 "nbformat": 4,
 "nbformat_minor": 2
}
