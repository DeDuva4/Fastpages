{
 "cells": [
  {
   "cell_type": "markdown",
   "metadata": {},
   "source": [
    "# Quiz 2\n",
    "\n",
    "- toc: true \n",
    "- badges: true\n",
    "- comments: true\n",
    "- categories: [jupyter]\n",
    "- title: Quiz 2"
   ]
  },
  {
   "cell_type": "code",
   "execution_count": 30,
   "metadata": {},
   "outputs": [],
   "source": [
    "# This cell creates and adds to a Quiz Database list of dictionaries\n",
    "\n",
    "QuizDb = []\n",
    "\n",
    "# Dhruva's Info\n",
    "QuizDb.append({\n",
    "    \"Firstname\": \"Dhruva\",\n",
    "    \"Lastname\": \"Iyer\",\n",
    "    \"Age\": \"15\",\n",
    "    \"Height\": \"68 inches\"\n",
    "})\n",
    "\n",
    "# Kanishka's Info\n",
    "QuizDb.append({\n",
    "    \"Firstname\": \"Kanishka\",\n",
    "    \"Lastname\": \"Iyer\",\n",
    "    \"Age\": \"13\",\n",
    "    \"Weight\": \"80 pounds\"\n",
    "})"
   ]
  },
  {
   "cell_type": "code",
   "execution_count": 31,
   "metadata": {},
   "outputs": [
    {
     "name": "stdout",
     "output_type": "stream",
     "text": [
      "Your answer is correct\n",
      "Your answer is correct\n",
      "Your answer is correct\n",
      "Your answer is correct\n",
      "Your answer is correct\n",
      "Your answer is correct\n",
      "you answered:  6 / 6\n"
     ]
    }
   ],
   "source": [
    "# This cell defines a function that I will use to execute the quiz\n",
    "\n",
    "def ask_questions(QDb):\n",
    "    correct_cnt = 0\n",
    "    total_cnt = 0\n",
    "    for dict_item in QDb:\n",
    "        person_name = dict_item['Firstname']\n",
    "        for key in dict_item:\n",
    "            if key == 'Firstname':\n",
    "                continue\n",
    "            else:\n",
    "                question = \"what is \" + person_name + \"'s \" + key\n",
    "                correct_answer = dict_item[key]  \n",
    "                user_answer = input(question)\n",
    "                if user_answer == \"exit\":\n",
    "                    break\n",
    "                total_cnt += 1\n",
    "                if correct_answer == user_answer:\n",
    "                    correct_cnt += 1\n",
    "                    print(\"Your answer is correct\")\n",
    "                \n",
    "                else:\n",
    "                    print(\"Your answer is incorrect\")\n",
    "                \n",
    "        if user_answer == \"exit\":\n",
    "            print(\"Bye!\")\n",
    "            break\n",
    "    print('you answered: ', correct_cnt, '/', total_cnt, \"Correct\")\n",
    "\n",
    "ask_questions(QuizDb)"
   ]
  },
  {
   "cell_type": "code",
   "execution_count": 33,
   "metadata": {},
   "outputs": [
    {
     "name": "stdout",
     "output_type": "stream",
     "text": [
      "Here are your numbers!!!\n",
      "10\n",
      "11\n",
      "12\n",
      "13\n",
      "14\n",
      "15\n",
      "16\n",
      "17\n",
      "18\n",
      "19\n",
      "20\n",
      "21\n",
      "22\n",
      "23\n",
      "24\n",
      "25\n"
     ]
    }
   ],
   "source": [
    "# This cell has a while loop\n",
    "\n",
    "def list_num_inclusive(x,y):\n",
    "    \n",
    "    x = int(x)\n",
    "    y = int(y)\n",
    "    \n",
    "    if x >= y:\n",
    "        print(\"ERROR!!! Starting value must be less than ending value. Please try again.\")\n",
    "    else:\n",
    "        print(\"Here are your numbers!!!\")\n",
    "    while x <= y:\n",
    "        print(x)\n",
    "        x += 1\n",
    "\n",
    "starting_value = input(\"What is the starting value? (Inclusive\")\n",
    "ending_value = input(\"What is the ending value? (Inclusive\")\n",
    "\n",
    "list_num_inclusive(starting_value, ending_value)"
   ]
  }
 ],
 "metadata": {
  "kernelspec": {
   "display_name": "Python 3.10.4 64-bit",
   "language": "python",
   "name": "python3"
  },
  "language_info": {
   "codemirror_mode": {
    "name": "ipython",
    "version": 3
   },
   "file_extension": ".py",
   "mimetype": "text/x-python",
   "name": "python",
   "nbconvert_exporter": "python",
   "pygments_lexer": "ipython3",
   "version": "3.10.4"
  },
  "orig_nbformat": 4,
  "vscode": {
   "interpreter": {
    "hash": "916dbcbb3f70747c44a77c7bcd40155683ae19c65e1c03b4aa3499c5328201f1"
   }
  }
 },
 "nbformat": 4,
 "nbformat_minor": 2
}
