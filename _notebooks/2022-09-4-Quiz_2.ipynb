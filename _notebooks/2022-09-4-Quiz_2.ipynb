{
 "cells": [
  {
   "cell_type": "markdown",
   "metadata": {},
   "source": [
    "# Quiz 2\n",
    "\n",
    "- toc: true \n",
    "- badges: true\n",
    "- comments: true\n",
    "- categories: [jupyter]\n",
    "- title: Quiz 2"
   ]
  },
  {
   "cell_type": "code",
   "execution_count": 16,
   "metadata": {},
   "outputs": [],
   "source": [
    "# This cell creates and adds to a Quiz Database list of dictionaries\n",
    "\n",
    "QuizDb = []\n",
    "\n",
    "# Dhruva's Info\n",
    "QuizDb.append({\n",
    "    \"Firstname\": \"Dhruva\",\n",
    "    \"Lastname\": \"Iyer\",\n",
    "    \"Age\": \"15\",\n",
    "    \"Height\": \"68 inches\"\n",
    "})\n",
    "\n",
    "# Kanishka's Info\n",
    "QuizDb.append({\n",
    "    \"Firstname\": \"Kanishka\",\n",
    "    \"Lastname\": \"Iyer\",\n",
    "    \"Age\": \"13\",\n",
    "    \"Weight\": \"80 pounds\"\n",
    "})"
   ]
  },
  {
   "cell_type": "code",
   "execution_count": 17,
   "metadata": {},
   "outputs": [
    {
     "name": "stdout",
     "output_type": "stream",
     "text": [
      "Your answer is correct\n",
      "Your answer is correct\n",
      "Your answer is correct\n",
      "Bye!\n",
      "you answered:  3 / 3\n"
     ]
    }
   ],
   "source": [
    "# This cell defines a function that I will use to execute the quiz\n",
    "\n",
    "def ask_questions(QDb):\n",
    "    correct_cnt = 0\n",
    "    total_cnt = 0\n",
    "    for dict_item in QDb:\n",
    "        person_name = dict_item['Firstname']\n",
    "        for key in dict_item:\n",
    "            if key == 'Firstname':\n",
    "                continue\n",
    "            else:\n",
    "                question = \"what is \" + person_name + \"'s \" + key\n",
    "                correct_answer = dict_item[key]  \n",
    "                user_answer = input(question)\n",
    "                if user_answer == \"exit\":\n",
    "                    break\n",
    "                total_cnt += 1\n",
    "                if correct_answer == user_answer:\n",
    "                    correct_cnt += 1\n",
    "                    print(\"Your answer is correct\")\n",
    "                \n",
    "                else:\n",
    "                    print(\"Your answer is incorrect\")\n",
    "                \n",
    "        if user_answer == \"exit\":\n",
    "            print(\"Bye!\")\n",
    "            break\n",
    "    print('you answered: ', correct_cnt, '/', total_cnt)\n",
    "\n",
    "ask_questions(QuizDb)"
   ]
  },
  {
   "cell_type": "code",
   "execution_count": null,
   "metadata": {},
   "outputs": [],
   "source": [
    "# This cell has a while loop\n",
    "\n"
   ]
  }
 ],
 "metadata": {
  "kernelspec": {
   "display_name": "Python 3.10.4 64-bit",
   "language": "python",
   "name": "python3"
  },
  "language_info": {
   "codemirror_mode": {
    "name": "ipython",
    "version": 3
   },
   "file_extension": ".py",
   "mimetype": "text/x-python",
   "name": "python",
   "nbconvert_exporter": "python",
   "pygments_lexer": "ipython3",
   "version": "3.10.4"
  },
  "orig_nbformat": 4,
  "vscode": {
   "interpreter": {
    "hash": "916dbcbb3f70747c44a77c7bcd40155683ae19c65e1c03b4aa3499c5328201f1"
   }
  }
 },
 "nbformat": 4,
 "nbformat_minor": 2
}
