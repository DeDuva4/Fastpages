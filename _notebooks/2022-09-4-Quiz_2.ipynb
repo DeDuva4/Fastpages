{
 "cells": [
  {
   "cell_type": "markdown",
   "metadata": {},
   "source": [
    "# Quiz 2\n",
    "\n",
    "- toc: true \n",
    "- badges: true\n",
    "- comments: true\n",
    "- categories: [jupyter]\n",
    "- title: Quiz 2"
   ]
  },
  {
   "cell_type": "code",
   "execution_count": 1,
   "metadata": {},
   "outputs": [],
   "source": [
    "# This cell creates and adds to a Quiz Database list of dictionaries\n",
    "\n",
    "QuizDb = []\n",
    "\n",
    "# Dhruva's Info\n",
    "QuizDb.append({\n",
    "    \"Firstname\": \"Dhruva\",\n",
    "    \"Lastname\": \"Iyer\",\n",
    "    \"Age\": \"15\"\n",
    "})\n",
    "\n",
    "# Kanishka's Info\n",
    "QuizDb.append({\n",
    "    \"Firstname\": \"Kanishka\",\n",
    "    \"Lastname\": \"Iyer\",\n",
    "    \"Age\": \"13\"\n",
    "})"
   ]
  },
  {
   "cell_type": "code",
   "execution_count": null,
   "metadata": {},
   "outputs": [],
   "source": [
    "# This cell defines a function that I will use to ask quiz questions.\n",
    "\n",
    "def ask_question(rec[])"
   ]
  }
 ],
 "metadata": {
  "kernelspec": {
   "display_name": "Python 3.10.4 64-bit",
   "language": "python",
   "name": "python3"
  },
  "language_info": {
   "codemirror_mode": {
    "name": "ipython",
    "version": 3
   },
   "file_extension": ".py",
   "mimetype": "text/x-python",
   "name": "python",
   "nbconvert_exporter": "python",
   "pygments_lexer": "ipython3",
   "version": "3.10.4"
  },
  "orig_nbformat": 4,
  "vscode": {
   "interpreter": {
    "hash": "916dbcbb3f70747c44a77c7bcd40155683ae19c65e1c03b4aa3499c5328201f1"
   }
  }
 },
 "nbformat": 4,
 "nbformat_minor": 2
}
