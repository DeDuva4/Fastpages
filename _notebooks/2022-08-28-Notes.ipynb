{
 "cells": [
  {
   "cell_type": "markdown",
   "metadata": {},
   "source": [
    "# CSP Notes\n",
    "\n",
    "- toc: true \n",
    "- badges: true\n",
    "- comments: true\n",
    "- categories: [jupyter]\n",
    "- title: CSP Notes"
   ]
  },
  {
   "cell_type": "markdown",
   "metadata": {},
   "source": [
    "This is What I learnt this week\n",
    "\n",
    "Problems with changing themes. Although most themes look better than the original fastpages theme, the functionality of the site will be affected. Pages, tags, and search bar become unaccessible after switching themes."
   ]
  },
  {
   "cell_type": "markdown",
   "metadata": {},
   "source": [
    "For my basicCreate project I want to make an app that takes many peoples school schedules, and then notifies them of classes that they share with people in their contacts. For example after the class schedules are released before a new trimester, you can input your schedule, and see which friends are in your classes."
   ]
  },
  {
   "cell_type": "markdown",
   "metadata": {},
   "source": [
    "Proof that I can save without commiting, with a local server."
   ]
  }
 ],
 "metadata": {
  "kernelspec": {
   "display_name": "Python 3.10.4 64-bit",
   "language": "python",
   "name": "python3"
  },
  "language_info": {
   "name": "python",
   "version": "3.10.4"
  },
  "orig_nbformat": 4,
  "vscode": {
   "interpreter": {
    "hash": "916dbcbb3f70747c44a77c7bcd40155683ae19c65e1c03b4aa3499c5328201f1"
   }
  }
 },
 "nbformat": 4,
 "nbformat_minor": 2
}
