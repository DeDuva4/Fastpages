{
 "cells": [
  {
   "attachments": {},
   "cell_type": "markdown",
   "metadata": {},
   "source": [
    "# 5.5 and 5.6 Notes\n",
    "\n",
    "- title: 5.5 and 5.6 Notes\n",
    "- toc: true\n",
    "- badges: false\n",
    "- categories: [Big Idea, 5.5, 5.6, Notes, Discussion, legal, ethical, safe]\n",
    "- permalink: /legal_ethical_safe"
   ]
  },
  {
   "attachments": {},
   "cell_type": "markdown",
   "metadata": {},
   "source": [
    "There are many ethical and legal concerns when coming up with ideas and patents in the software world. There are many different licenses that offer different benefits and uses, such as GPL, and MIT licenses.\n",
    "\n",
    "- Using the General Public Licensing (GPL) can result in you losing your rights to charge for software and patents, as it renders your work as derivative and free open source code. This license allows other to do anything to and with your code except distribute closed source versions of it. Using this license will require your Github project to be public. This is mainly used to write and distribute code that others can use and adapt.\n",
    "\n",
    "- Another license, the MIT license, is useful to companies such as Qualcomm, because it allows you to use code freely, and make and distribute closed source versions of the code. However, the author of the software or code usually wants credit so you might need to add their name in the comments. This will allow you to make your github project private. This is usually used for writing software that you want credit and expect to get paid for."
   ]
  },
  {
   "attachments": {},
   "cell_type": "markdown",
   "metadata": {},
   "source": [
    "The license that Github Fastpages asked for when we first made it had a private and public key. My repository is private, and because I don't need to have credits or any legal rights over my code, and it is in a public repository, it uses the Apache License 2.0 which gives you control and usability, but you can't get trademarks or similar legal rights over the repository. This is commonly used for academic purposes."
   ]
  },
  {
   "attachments": {},
   "cell_type": "markdown",
   "metadata": {},
   "source": [
    "PII is Personal Identifiable Information. This includes anything from your name to your email, password, and even your social security number. You can end up in a terrible situation if you are not careful with what information you provide where.\n",
    "\n",
    "- Certain information that is known or can be accessed by anyone: Name, Email (suggest a junk email), Picture, High School attended, College Attended, Properties you own, State-City of residence, all State-City of previous residence, Credit Reports\n",
    "\n",
    "- Other information is iffy, and may be known or accessed by some people. For good measure you should strive to keep this information secure and private: Birth date, Place of Birth, Street Address, Phone Number, Maiden names of Mother and Grandmother, Drivers License Number\n",
    "\n",
    "- The final category of information is completely private and secret information that should never be shared unless absolutely necessary and is directed toward a trusted group or person: Credentials for Access, Two-Factor Authentication on Financial accounts, Social Security Number, Tax records"
   ]
  },
  {
   "attachments": {},
   "cell_type": "markdown",
   "metadata": {},
   "source": [
    "There are many different malicious viruses, frauds, scams, and other dangerous activities that can be a severe issue if you are not careful. They will try to steal your private PII with intent to sell it, use it, or even at time commit complete identity theft or fraud. Here are some examples of these malicious activities.\n",
    "\n",
    "- Malware: This is any type of software or program that you download that is malicious and has bad intentions. They make your life much worse so try to avoid these.\n",
    "\n",
    "- Viruses: A type of malware, specifically a program that damages your system while putting your information at risk. They usually slow down your computer and are very annoying. Can get protection from this by getting an antivirus and being careful with what you download. Make sure to get a good antivirus, or it may end up being a virus itself.\n",
    "\n",
    "- Phishing: This is a method of getting a virus onto your machine. These usually have promises of lots of money on them, and all you have to do is click the link to get rich. The only thing you are really getting is a virus.\n",
    "\n",
    "- Use two factor authentication and be careful with links and downloads in order to be safe while browsing the internet. Two factor authentication is a great way of adding an extra layer of protection and security to your accounts and the information stored on them."
   ]
  },
  {
   "attachments": {},
   "cell_type": "markdown",
   "metadata": {},
   "source": [
    "1. I have seen my name, username, slack account, and github account all used in the CSP class.\n",
    "\n",
    "2. I feel like I have a good understanding of PIIs, but sadly I am pretty sure I have already leaked lots my information. Earlier, when I was younger, I did not understand cybersecurity, and the risks of browsing the internet. I would click random links and download things without checking them. Its not wonder all the computers I used before 5 years ago all slowed down to a crawl and were unusable. Since learning about the risks of PIIs, I am making sure to keep my information private and secure.\n",
    "\n",
    "3. A good password is a unique, creative, and abstract password that is not easy to guess or figure out, and will take a long time to crack with brute force. These good passwords include many lowercase and capital letters, along with numerous symbols, numbers and other characters that make cracking the password nearly impossible. The longer the password the better. Bad passwords are passwords that are easy to figure out or crack. Some examples are \"1234\", and \"password\". If you choose good secure passwords, it makes it much harder for someone to hack your accounts and get access to your PIIs.\n",
    "\n",
    "4. Symmetric encryption is when a value or string is encrypted and decrypted using only one secret private key. Asymmetric encryption is when a value or string is encrypted and decrypted using two keys. One public and one private. SSL uses both methods of encryption.\n",
    "\n",
    "5. I think we encrypted all of our server names, as they usually had really long ids. We make sure that all of our servers that were running on AWS could only be accessed by certain users who were whitelisted and had the correct keys.\n",
    "\n",
    "6. I learned about a scheme the hard way when I was around 9. There was a movie that I really wanted to watch, but It was still in theaters, and my parents probably would have said no if I asked them to take me to see it. I saw an ad that was advertising the movie in its entirety, and so out of excitement I clicked on it. This then prompted me to download some type of google chrome extension, and it was probably a virus. When my dad found out about this, he told me what had happened, and taught me about how these things work, and how important it is to be discrete and careful when using the internet."
   ]
  }
 ],
 "metadata": {
  "kernelspec": {
   "display_name": "Python 3",
   "language": "python",
   "name": "python3"
  },
  "language_info": {
   "name": "python",
   "version": "3.9.12"
  },
  "orig_nbformat": 4,
  "vscode": {
   "interpreter": {
    "hash": "99e348d98b9989c8b01edaf9cf4dfd16099e6ff5dbc9821ceaff412487c45070"
   }
  }
 },
 "nbformat": 4,
 "nbformat_minor": 2
}
