{
 "cells": [
  {
   "attachments": {},
   "cell_type": "markdown",
   "metadata": {},
   "source": [
    "# 5.5 and 5.6 Notes\n",
    "\n",
    "- title: 5.5 and 5.6 Notes\n",
    "- toc: true\n",
    "- badges: false\n",
    "- categories: [Big Idea, 5.5, 5.6, Notes, Discussion, legal, ethical, safe]\n",
    "- permalink: /legal_ethical_safe"
   ]
  },
  {
   "attachments": {},
   "cell_type": "markdown",
   "metadata": {},
   "source": [
    "There are many ethical and legal concerns when coming up with ideas and patents in the software world. There are many different licenses that offer different benefits and uses, such as GPL, and MIT licenses. "
   ]
  },
  {
   "attachments": {},
   "cell_type": "markdown",
   "metadata": {},
   "source": [
    "- Using the General Public Licensing (GPL) can result in you losing your rights to charge for software and patents, as it renders your work as derivative and free open source code. This license allows other to do anything to and with your code except distribute closed source versions of it. Using this license will require your Github project to be public. This is mainly used to write and distribute code that others can use and adapt.\n",
    "\n",
    "- Another license, the MIT license, is useful to companies such as Qualcomm, because it allows you to use code freely, and make and distribute closed source versions of the code. However, the author of the software or code usually wants credit so you might need to add their name in the comments. This will allow you to make your github project private. This is usually used for writing software that you want credit and expect to get paid for."
   ]
  },
  {
   "attachments": {},
   "cell_type": "markdown",
   "metadata": {},
   "source": [
    "The license that github fastpages asked for when we first made it had a private and public key. My repository is private, and because I don't need to have credits or any legal rights over my code, and it is in a public repository, it most likely uses a GPL license."
   ]
  }
 ],
 "metadata": {
  "kernelspec": {
   "display_name": "Python 3",
   "language": "python",
   "name": "python3"
  },
  "language_info": {
   "name": "python",
   "version": "3.9.12"
  },
  "orig_nbformat": 4,
  "vscode": {
   "interpreter": {
    "hash": "99e348d98b9989c8b01edaf9cf4dfd16099e6ff5dbc9821ceaff412487c45070"
   }
  }
 },
 "nbformat": 4,
 "nbformat_minor": 2
}
