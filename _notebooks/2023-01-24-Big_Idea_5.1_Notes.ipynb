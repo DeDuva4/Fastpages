{
 "cells": [
  {
   "attachments": {},
   "cell_type": "markdown",
   "metadata": {},
   "source": [
    "# Big Idea 5.1 Beneficial and Harmful Effects\n",
    "> Big Idea 5.1 Notes\n",
    "\n",
    "- title: Big Idea 5.1 Notes\n",
    "- toc: true\n",
    "- badges: false\n",
    "- categories: [Big Idea, Notes]\n",
    "- permalink: /5.1-Notes"
   ]
  },
  {
   "attachments": {},
   "cell_type": "markdown",
   "metadata": {},
   "source": [
    "Chat GPT is a very productive useful tool. It can be used to do most peoples homework. It is an artificial intellegence that is owned by OpenAI, which is owned by Microsoft. They are not a public company, so we can't buy any stock in it."
   ]
  }
 ],
 "metadata": {
  "kernelspec": {
   "display_name": "Python 3",
   "language": "python",
   "name": "python3"
  },
  "language_info": {
   "name": "python",
   "version": "3.9.12 (main, Apr  5 2022, 06:56:58) \n[GCC 7.5.0]"
  },
  "orig_nbformat": 4,
  "vscode": {
   "interpreter": {
    "hash": "99e348d98b9989c8b01edaf9cf4dfd16099e6ff5dbc9821ceaff412487c45070"
   }
  }
 },
 "nbformat": 4,
 "nbformat_minor": 2
}
