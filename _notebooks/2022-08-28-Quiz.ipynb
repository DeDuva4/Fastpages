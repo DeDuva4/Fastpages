{
 "cells": [
  {
   "cell_type": "markdown",
   "metadata": {},
   "source": [
    "# CSP Notes\n",
    "\n",
    "- toc: true \n",
    "- badges: true\n",
    "- comments: true\n",
    "- categories: [jupyter]\n",
    "- title: Python Quiz"
   ]
  },
  {
   "cell_type": "code",
   "execution_count": 1,
   "metadata": {},
   "outputs": [
    {
     "name": "stdout",
     "output_type": "stream",
     "text": [
      "incorrect answer\n",
      "The correct answer was 7\n",
      "incorrect answer\n",
      "The correct answer was 2007\n",
      "incorrect answer\n",
      "The correct answer was Abraham Lincoln\n",
      "You got: 0.0 %\n"
     ]
    }
   ],
   "source": [
    "points = 0\n",
    "answer = input(\"How many hours does the average person sleep?\")\n",
    "if answer == \"7\":\n",
    "    print(\"Correct answer!\")\n",
    "    points += 1\n",
    "else: \n",
    "    print(\"incorrect answer\")\n",
    "    print(\"The correct answer was 7\")\n",
    "\n",
    "answer = input(\"When was the first iPhone made?\")\n",
    "if answer == \"2007\":\n",
    "    print(\"Correct answer!\")\n",
    "    points += 1\n",
    "else: \n",
    "    print(\"incorrect answer\")\n",
    "    print(\"The correct answer was 2007\")\n",
    "\n",
    "answer = input(\"Who was the 16th President of the United States?\")\n",
    "if answer == \"Abraham Lincoln\":\n",
    "    print(\"Correct answer!\")\n",
    "    points += 1\n",
    "else: \n",
    "    print(\"incorrect answer\")\n",
    "    print(\"The correct answer was Abraham Lincoln\")\n",
    "    \n",
    "\n",
    "print(\"You got:\", (points/3)*100, \"%\")"
   ]
  }
 ],
 "metadata": {
  "kernelspec": {
   "display_name": "Python 3.10.4 64-bit",
   "language": "python",
   "name": "python3"
  },
  "language_info": {
   "codemirror_mode": {
    "name": "ipython",
    "version": 3
   },
   "file_extension": ".py",
   "mimetype": "text/x-python",
   "name": "python",
   "nbconvert_exporter": "python",
   "pygments_lexer": "ipython3",
   "version": "3.10.4"
  },
  "orig_nbformat": 4,
  "vscode": {
   "interpreter": {
    "hash": "916dbcbb3f70747c44a77c7bcd40155683ae19c65e1c03b4aa3499c5328201f1"
   }
  }
 },
 "nbformat": 4,
 "nbformat_minor": 2
}
