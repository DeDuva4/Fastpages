{
 "cells": [
  {
   "cell_type": "markdown",
   "metadata": {},
   "source": [
    "# First Bash Notebook\n",
    "\n",
    "- toc: true \n",
    "- badges: true\n",
    "- comments: true\n",
    "- categories: [jupyter]\n",
    "- title: Bash Notebook"
   ]
  },
  {
   "cell_type": "code",
   "execution_count": 1,
   "metadata": {
    "vscode": {
     "languageId": "shellscript"
    }
   },
   "outputs": [
    {
     "name": "stdout",
     "output_type": "stream",
     "text": [
      "Using conditional statement to create a project directory and project\n",
      "Directory /home/deduva/Bash_Notebook exists.004l\u001b[?2004l\u001b[?2004l\u001b[?2004l\u001b[?2004l\u001b[?2004l\u001b[?2004l\u001b[?2004l\u001b[?2004l\u001b[?2004l\u001b[?2004l\n",
      "Directory /home/deduva/Bash_Notebook/Fastpages exists.4l\u001b[?2004l\u001b[?2004l\u001b[?2004l\u001b[?2004l\n",
      "\u001b[?2004h"
     ]
    },
    {
     "ename": "",
     "evalue": "1",
     "output_type": "error",
     "traceback": []
    }
   ],
   "source": [
    "echo \"Using conditional statement to create a project directory and project\"\n",
    "\n",
    "# Variable section\n",
    "export project_dir=$HOME/Bash_Notebook  # change vscode to different name to test git clone\n",
    "export project=$project_dir/Fastpages  # change APCSP to name of project from git clone\n",
    "export project_repo=\"https://github.com/DeDuva4/Fastpages.git\"  # change to project of choice\n",
    "\n",
    "cd ~    # start in home directory\n",
    "\n",
    "# Conditional block to make a project directory\n",
    "if [ ! -d $project_dir ]\n",
    "then \n",
    "    echo \"Directory $project_dir does not exists... makinng directory $project_dir\"\n",
    "    mkdir -p $project_dir\n",
    "fi\n",
    "echo \"Directory $project_dir exists.\" \n",
    "\n",
    "# Conditional block to git clone a project from project_repo\n",
    "if [ ! -d $project ]\n",
    "then\n",
    "    echo \"Directory $project does not exists... cloning $project_repo\"\n",
    "    cd $project_dir\n",
    "    git clone $project_repo\n",
    "    cd ~\n",
    "fi\n",
    "echo \"Directory $project exists.\""
   ]
  },
  {
   "cell_type": "code",
   "execution_count": 2,
   "metadata": {
    "vscode": {
     "languageId": "shellscript"
    }
   },
   "outputs": [
    {
     "name": "stdout",
     "output_type": "stream",
     "text": [
      "Navigate to project, then navigate to area wwhere files were cloned\n",
      "/home/deduva/Bash_Notebook/Fastpages\n",
      "\u001b[?2004h\u001b[?2004l\u001b[?2004l\n",
      "list top level or root of files with project pulled from github\n",
      "\u001b[0m\u001b[01;35m2022-05-15-07-21-16.png\u001b[0m  _config.yml         \u001b[01;34m_includes\u001b[0m   \u001b[01;34m_notebooks\u001b[0m  \u001b[01;34m_sass\u001b[0m\n",
      "\u001b[01;35m2022-05-15-07-24-25.png\u001b[0m  \u001b[01;32mdocker-compose.yml\u001b[0m  index.html  \u001b[01;34m_pages\u001b[0m      \u001b[01;34m_word\u001b[0m\n",
      "\u001b[01;35m2022-05-15-07-25-15.png\u001b[0m  \u001b[01;34m_fastpages_docs\u001b[0m     \u001b[01;34m_layouts\u001b[0m    \u001b[01;34m_plugins\u001b[0m\n",
      "\u001b[01;34m_action_files\u001b[0m            \u001b[01;32mGemfile\u001b[0m             LICENSE     \u001b[01;34m_posts\u001b[0m\n",
      "\u001b[01;34massets\u001b[0m                   \u001b[01;34mimages\u001b[0m              \u001b[01;32mMakefile\u001b[0m    \u001b[01;32mREADME.md\u001b[0m\n",
      "\u001b[?2004h\u001b[?2004l\u001b[?2004l\n",
      "list again with hidden files pulled from github\n",
      "\u001b[0m\u001b[01;34m.\u001b[0m                        .devcontainer.json  \u001b[01;34mimages\u001b[0m      \u001b[01;34m_plugins\u001b[0m\n",
      "\u001b[01;34m..\u001b[0m                       \u001b[01;32mdocker-compose.yml\u001b[0m  \u001b[01;34m_includes\u001b[0m   \u001b[01;34m_posts\u001b[0m\n",
      "\u001b[01;35m2022-05-15-07-21-16.png\u001b[0m  \u001b[01;34m_fastpages_docs\u001b[0m     index.html  \u001b[01;32mREADME.md\u001b[0m\n",
      "\u001b[01;35m2022-05-15-07-24-25.png\u001b[0m  \u001b[01;32mGemfile\u001b[0m             \u001b[01;34m_layouts\u001b[0m    \u001b[01;34m_sass\u001b[0m\n",
      "\u001b[01;35m2022-05-15-07-25-15.png\u001b[0m  \u001b[01;34m.git\u001b[0m                LICENSE     \u001b[01;34m_word\u001b[0m\n",
      "\u001b[01;34m_action_files\u001b[0m            .gitattributes      \u001b[01;32mMakefile\u001b[0m\n",
      "\u001b[01;34massets\u001b[0m                   \u001b[01;34m.github\u001b[0m             \u001b[01;34m_notebooks\u001b[0m\n",
      "_config.yml              .gitignore          \u001b[01;34m_pages\u001b[0m\n",
      "\u001b[?2004h\u001b[?2004l\u001b[?2004l\n",
      "list all files in long format\n",
      "total 488[?2004l\n",
      "drwxr-xr-x 16 deduva deduva   4096 Aug 28 15:11 \u001b[0m\u001b[01;34m.\u001b[0m\n",
      "drwxr-xr-x  3 deduva deduva   4096 Aug 28 15:11 \u001b[01;34m..\u001b[0m\n",
      "-rw-r--r--  1 deduva deduva 207007 Aug 28 15:11 \u001b[01;35m2022-05-15-07-21-16.png\u001b[0m\n",
      "-rw-r--r--  1 deduva deduva  90979 Aug 28 15:11 \u001b[01;35m2022-05-15-07-24-25.png\u001b[0m\n",
      "-rw-r--r--  1 deduva deduva  81691 Aug 28 15:11 \u001b[01;35m2022-05-15-07-25-15.png\u001b[0m\n",
      "drwxr-xr-x  2 deduva deduva   4096 Aug 28 15:11 \u001b[01;34m_action_files\u001b[0m\n",
      "drwxr-xr-x  4 deduva deduva   4096 Aug 28 15:11 \u001b[01;34massets\u001b[0m\n",
      "-rw-r--r--  1 deduva deduva   3606 Aug 28 15:11 _config.yml\n",
      "-rw-r--r--  1 deduva deduva    420 Aug 28 15:11 .devcontainer.json\n",
      "-rwxr-xr-x  1 deduva deduva   1136 Aug 28 15:11 \u001b[01;32mdocker-compose.yml\u001b[0m\n",
      "drwxr-xr-x  2 deduva deduva   4096 Aug 28 15:11 \u001b[01;34m_fastpages_docs\u001b[0m\n",
      "-rwxr-xr-x  1 deduva deduva   1304 Aug 28 15:11 \u001b[01;32mGemfile\u001b[0m\n",
      "drwxr-xr-x  8 deduva deduva   4096 Aug 28 15:11 \u001b[01;34m.git\u001b[0m\n",
      "-rw-r--r--  1 deduva deduva     84 Aug 28 15:11 .gitattributes\n",
      "drwxr-xr-x  4 deduva deduva   4096 Aug 28 15:11 \u001b[01;34m.github\u001b[0m\n",
      "-rw-r--r--  1 deduva deduva    161 Aug 28 15:11 .gitignore\n",
      "drwxr-xr-x  3 deduva deduva   4096 Aug 28 15:11 \u001b[01;34mimages\u001b[0m\n",
      "drwxr-xr-x  2 deduva deduva   4096 Aug 28 15:11 \u001b[01;34m_includes\u001b[0m\n",
      "-rw-r--r--  1 deduva deduva    134 Aug 28 15:11 index.html\n",
      "drwxr-xr-x  2 deduva deduva   4096 Aug 28 15:11 \u001b[01;34m_layouts\u001b[0m\n",
      "-rw-r--r--  1 deduva deduva  11351 Aug 28 15:11 LICENSE\n",
      "-rwxr-xr-x  1 deduva deduva   1422 Aug 28 15:11 \u001b[01;32mMakefile\u001b[0m\n",
      "drwxr-xr-x  4 deduva deduva   4096 Aug 28 15:11 \u001b[01;34m_notebooks\u001b[0m\n",
      "drwxr-xr-x  2 deduva deduva   4096 Aug 28 15:11 \u001b[01;34m_pages\u001b[0m\n",
      "drwxr-xr-x  2 deduva deduva   4096 Aug 28 15:11 \u001b[01;34m_plugins\u001b[0m\n",
      "drwxr-xr-x  2 deduva deduva   4096 Aug 28 15:11 \u001b[01;34m_posts\u001b[0m\n",
      "-rwxr-xr-x  1 deduva deduva   3602 Aug 28 15:11 \u001b[01;32mREADME.md\u001b[0m\n",
      "drwxr-xr-x  3 deduva deduva   4096 Aug 28 15:11 \u001b[01;34m_sass\u001b[0m\n",
      "drwxr-xr-x  2 deduva deduva   4096 Aug 28 15:11 \u001b[01;34m_word\u001b[0m\n",
      "\u001b[?2004h"
     ]
    },
    {
     "ename": "",
     "evalue": "1",
     "output_type": "error",
     "traceback": []
    }
   ],
   "source": [
    "echo \"Navigate to project, then navigate to area wwhere files were cloned\"\n",
    "cd $project\n",
    "pwd\n",
    "\n",
    "echo \"\"\n",
    "echo \"list top level or root of files with project pulled from github\"\n",
    "ls\n",
    "\n",
    "echo \"\"\n",
    "echo \"list again with hidden files pulled from github\"\n",
    "ls -a   # hidden files flag, many shell commands have flags\n",
    "\n",
    "echo \"\"\n",
    "echo \"list all files in long format\"\n",
    "ls -al   # all files and long listing"
   ]
  },
  {
   "cell_type": "code",
   "execution_count": 3,
   "metadata": {
    "vscode": {
     "languageId": "shellscript"
    }
   },
   "outputs": [
    {
     "name": "stdout",
     "output_type": "stream",
     "text": [
      "Look for posts\n",
      "/home/deduva/Bash_Notebook/Fastpages/_posts\n",
      "total 4h\u001b[?2004l\n",
      "-rw-r--r-- 1 deduva deduva 40 Aug 28 15:11 Markdown_Post.md\n",
      "\u001b[?2004h"
     ]
    },
    {
     "ename": "",
     "evalue": "1",
     "output_type": "error",
     "traceback": []
    }
   ],
   "source": [
    "echo \"Look for posts\"\n",
    "export posts=$project/_posts  # _posts inside project\n",
    "cd $posts  # this should exist per fastpages\n",
    "pwd  # present working directory\n",
    "ls -l  # list posts"
   ]
  },
  {
   "cell_type": "code",
   "execution_count": 4,
   "metadata": {
    "vscode": {
     "languageId": "shellscript"
    }
   },
   "outputs": [
    {
     "name": "stdout",
     "output_type": "stream",
     "text": [
      "Look for notebooks\n",
      "/home/deduva/Bash_Notebook/Fastpages/_notebooks\n",
      "total 16\u001b[?2004l\n",
      "-rw-r--r-- 1 deduva deduva  689 Aug 28 15:11 2022_08_23_Jupyter_Blog.ipynb\n",
      "drwxr-xr-x 2 deduva deduva 4096 Aug 28 15:11 \u001b[0m\u001b[01;34mghtop_images\u001b[0m\n",
      "drwxr-xr-x 2 deduva deduva 4096 Aug 28 15:11 \u001b[01;34mmy_icons\u001b[0m\n",
      "-rw-r--r-- 1 deduva deduva  771 Aug 28 15:11 README.md\n",
      "\u001b[?2004h"
     ]
    },
    {
     "ename": "",
     "evalue": "1",
     "output_type": "error",
     "traceback": []
    }
   ],
   "source": [
    "echo \"Look for notebooks\"\n",
    "export notebooks=$project/_notebooks  # _notebooks is inside project\n",
    "cd $notebooks   # this should exist per fastpages\n",
    "pwd  # present working directory\n",
    "ls -l  # list notebooks"
   ]
  },
  {
   "cell_type": "code",
   "execution_count": 5,
   "metadata": {
    "vscode": {
     "languageId": "shellscript"
    }
   },
   "outputs": [
    {
     "name": "stdout",
     "output_type": "stream",
     "text": [
      "Look for images in notebooks, print working directory, list files\n",
      "bash: cd: /home/deduva/Bash_Notebook/Fastpages/_notebooks/images: No such file or directory\n",
      "/home/deduva/Bash_Notebook/Fastpages/_notebooks\n",
      "total 16\u001b[?2004l\n",
      "-rw-r--r-- 1 deduva deduva  689 Aug 28 15:11 2022_08_23_Jupyter_Blog.ipynb\n",
      "drwxr-xr-x 2 deduva deduva 4096 Aug 28 15:11 \u001b[0m\u001b[01;34mghtop_images\u001b[0m\n",
      "drwxr-xr-x 2 deduva deduva 4096 Aug 28 15:11 \u001b[01;34mmy_icons\u001b[0m\n",
      "-rw-r--r-- 1 deduva deduva  771 Aug 28 15:11 README.md\n",
      "\u001b[?2004h"
     ]
    },
    {
     "ename": "",
     "evalue": "1",
     "output_type": "error",
     "traceback": []
    }
   ],
   "source": [
    "echo \"Look for images in notebooks, print working directory, list files\"\n",
    "cd $notebooks/images  # this should exist per fastpages\n",
    "pwd\n",
    "ls -l"
   ]
  },
  {
   "cell_type": "code",
   "execution_count": 6,
   "metadata": {
    "vscode": {
     "languageId": "shellscript"
    }
   },
   "outputs": [
    {
     "name": "stdout",
     "output_type": "stream",
     "text": [
      "Navigate to project, then navigate to area wwhere files were cloned\n",
      "show the contents of README.md4l\n",
      "\u001b[?2004h\u001b[?2004l\n",
      "[//]: # (This template replaces README.md when someone creates a new repo with the fastpages template.)\n",
      "\n",
      "![](https://github.com/DeDuva4/Fastpages/workflows/CI/badge.svg) \n",
      "![](https://github.com/DeDuva4/Fastpages/workflows/GH-Pages%20Status/badge.svg) \n",
      "[![](https://img.shields.io/static/v1?label=fastai&message=fastpages&color=57aeac&labelColor=black&style=flat&logo=data:image/png;base64,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)](https://github.com/fastai/fastpages)\n",
      "\n",
      "https://DeDuva4.github.io/Fastpages/\n",
      "\n",
      "# My Blog\n",
      "\n",
      "\n",
      "_powered by [fastpages](https://github.com/fastai/fastpages)_\n",
      "\n",
      "\n",
      "## What To Do Next?\n",
      "\n",
      "Great!  You have setup your repo.  Now its time to start writing content.  Some helpful links:\n",
      "\n",
      "- [Writing Blogs With Jupyter](https://github.com/fastai/fastpages#writing-blog-posts-with-jupyter)\n",
      "\n",
      "- [Writing Blogs With Markdown](https://github.com/fastai/fastpages#writing-blog-posts-with-markdown)\n",
      "\n",
      "- [Writing Blog Posts With Word](https://github.com/fastai/fastpages#writing-blog-posts-with-microsoft-word)\n",
      "\n",
      "- [(Optional) Preview Your Blog Locally](_fastpages_docs/DEVELOPMENT.md)\n",
      "\n",
      "Note: you may want to remove example blog posts from the `_posts`,  `_notebooks` or `_word` folders (but leave them empty, don't delete these folders) if you don't want these blog posts to appear on your site.\n",
      "\n",
      "Please use the [nbdev & blogging channel](https://forums.fast.ai/c/fastai-users/nbdev/48) in the fastai forums for any questions or feature requests.\n",
      "\u001b[?2004h\u001b[?2004l\n",
      "end of README.md\n",
      "\u001b[?2004h"
     ]
    },
    {
     "ename": "",
     "evalue": "1",
     "output_type": "error",
     "traceback": []
    }
   ],
   "source": [
    "echo \"Navigate to project, then navigate to area wwhere files were cloned\"\n",
    "\n",
    "cd $project\n",
    "echo \"show the contents of README.md\"\n",
    "echo \"\"\n",
    "\n",
    "cat README.md  # show contents of file, in this case markdown\n",
    "echo \"\"\n",
    "echo \"end of README.md\""
   ]
  }
 ],
 "metadata": {
  "kernelspec": {
   "display_name": "Bash",
   "language": "bash",
   "name": "bash"
  },
  "language_info": {
   "codemirror_mode": "shell",
   "file_extension": ".sh",
   "mimetype": "text/x-sh",
   "name": "bash"
  },
  "orig_nbformat": 4
 },
 "nbformat": 4,
 "nbformat_minor": 2
}
