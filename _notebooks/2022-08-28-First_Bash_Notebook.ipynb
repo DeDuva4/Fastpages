{
 "cells": [
  {
   "cell_type": "markdown",
   "metadata": {},
   "source": [
    "# First Bash Notebook\n",
    "\n",
    "- toc: true \n",
    "- badges: true\n",
    "- comments: true\n",
    "- categories: [jupyter]\n",
    "- title: Bash Notebook"
   ]
  },
  {
   "cell_type": "code",
   "execution_count": 1,
   "metadata": {
    "vscode": {
     "languageId": "shellscript"
    }
   },
   "outputs": [
    {
     "name": "stdout",
     "output_type": "stream",
     "text": [
      "Using conditional statement to create a project directory and project\n",
      "Directory /home/deduva/Bash_Notebook does not exists... makinng directory /home/deduva/Bash_Notebook004l\u001b[?2004l\u001b[?2004l\n",
      "Directory /home/deduva/Bash_Notebook exists.\n",
      "Directory /home/deduva/Bash_Notebook/Fastpages does not exists... cloning https://github.com/DeDuva4/Fastpages.git\n",
      "Cloning into 'Fastpages'...\n",
      "remote: Enumerating objects: 702, done.\u001b[K\n",
      "remote: Counting objects: 100% (499/499), done.\u001b[K\n",
      "remote: Compressing objects: 100% (294/294), done.\u001b[K\n",
      "remote: Total 702 (delta 229), reused 298 (delta 134), pack-reused 203\u001b[K\n",
      "Receiving objects: 100% (702/702), 8.92 MiB | 8.15 MiB/s, done.\n",
      "Resolving deltas: 100% (259/259), done.\n",
      "Directory /home/deduva/Bash_Notebook/Fastpages exists.\n",
      "\u001b[?2004h"
     ]
    },
    {
     "ename": "",
     "evalue": "1",
     "output_type": "error",
     "traceback": []
    }
   ],
   "source": [
    "echo \"Using conditional statement to create a project directory and project\"\n",
    "\n",
    "# Variable section\n",
    "export project_dir=$HOME/Bash_Notebook  # change vscode to different name to test git clone\n",
    "export project=$project_dir/Fastpages  # change APCSP to name of project from git clone\n",
    "export project_repo=\"https://github.com/DeDuva4/Fastpages.git\"  # change to project of choice\n",
    "\n",
    "cd ~    # start in home directory\n",
    "\n",
    "# Conditional block to make a project directory\n",
    "if [ ! -d $project_dir ]\n",
    "then \n",
    "    echo \"Directory $project_dir does not exists... makinng directory $project_dir\"\n",
    "    mkdir -p $project_dir\n",
    "fi\n",
    "echo \"Directory $project_dir exists.\" \n",
    "\n",
    "# Conditional block to git clone a project from project_repo\n",
    "if [ ! -d $project ]\n",
    "then\n",
    "    echo \"Directory $project does not exists... cloning $project_repo\"\n",
    "    cd $project_dir\n",
    "    git clone $project_repo\n",
    "    cd ~\n",
    "fi\n",
    "echo \"Directory $project exists.\""
   ]
  },
  {
   "cell_type": "code",
   "execution_count": 2,
   "metadata": {
    "vscode": {
     "languageId": "shellscript"
    }
   },
   "outputs": [
    {
     "name": "stdout",
     "output_type": "stream",
     "text": [
      "Navigate to project, then navigate to area wwhere files were cloned\n",
      "/home/deduva/Bash_Notebook/Fastpages\n",
      "\u001b[?2004h\u001b[?2004l\u001b[?2004l\n",
      "list top level or root of files with project pulled from github\n",
      "\u001b[0m\u001b[01;35m2022-05-15-07-21-16.png\u001b[0m  _config.yml         \u001b[01;34m_includes\u001b[0m   \u001b[01;34m_notebooks\u001b[0m  \u001b[01;34m_sass\u001b[0m\n",
      "\u001b[01;35m2022-05-15-07-24-25.png\u001b[0m  \u001b[01;32mdocker-compose.yml\u001b[0m  index.html  \u001b[01;34m_pages\u001b[0m      \u001b[01;34m_word\u001b[0m\n",
      "\u001b[01;35m2022-05-15-07-25-15.png\u001b[0m  \u001b[01;34m_fastpages_docs\u001b[0m     \u001b[01;34m_layouts\u001b[0m    \u001b[01;34m_plugins\u001b[0m\n",
      "\u001b[01;34m_action_files\u001b[0m            \u001b[01;32mGemfile\u001b[0m             LICENSE     \u001b[01;34m_posts\u001b[0m\n",
      "\u001b[01;34massets\u001b[0m                   \u001b[01;34mimages\u001b[0m              \u001b[01;32mMakefile\u001b[0m    \u001b[01;32mREADME.md\u001b[0m\n",
      "\u001b[?2004h\u001b[?2004l\u001b[?2004l\n",
      "list again with hidden files pulled from github\n",
      "\u001b[0m\u001b[01;34m.\u001b[0m                        .devcontainer.json  \u001b[01;34mimages\u001b[0m      \u001b[01;34m_plugins\u001b[0m\n",
      "\u001b[01;34m..\u001b[0m                       \u001b[01;32mdocker-compose.yml\u001b[0m  \u001b[01;34m_includes\u001b[0m   \u001b[01;34m_posts\u001b[0m\n",
      "\u001b[01;35m2022-05-15-07-21-16.png\u001b[0m  \u001b[01;34m_fastpages_docs\u001b[0m     index.html  \u001b[01;32mREADME.md\u001b[0m\n",
      "\u001b[01;35m2022-05-15-07-24-25.png\u001b[0m  \u001b[01;32mGemfile\u001b[0m             \u001b[01;34m_layouts\u001b[0m    \u001b[01;34m_sass\u001b[0m\n",
      "\u001b[01;35m2022-05-15-07-25-15.png\u001b[0m  \u001b[01;34m.git\u001b[0m                LICENSE     \u001b[01;34m_word\u001b[0m\n",
      "\u001b[01;34m_action_files\u001b[0m            .gitattributes      \u001b[01;32mMakefile\u001b[0m\n",
      "\u001b[01;34massets\u001b[0m                   \u001b[01;34m.github\u001b[0m             \u001b[01;34m_notebooks\u001b[0m\n",
      "_config.yml              .gitignore          \u001b[01;34m_pages\u001b[0m\n",
      "\u001b[?2004h\u001b[?2004l\u001b[?2004l\n",
      "list all files in long format\n",
      "total 488[?2004l\n",
      "drwxr-xr-x 16 deduva deduva   4096 Aug 28 15:11 \u001b[0m\u001b[01;34m.\u001b[0m\n",
      "drwxr-xr-x  3 deduva deduva   4096 Aug 28 15:11 \u001b[01;34m..\u001b[0m\n",
      "-rw-r--r--  1 deduva deduva 207007 Aug 28 15:11 \u001b[01;35m2022-05-15-07-21-16.png\u001b[0m\n",
      "-rw-r--r--  1 deduva deduva  90979 Aug 28 15:11 \u001b[01;35m2022-05-15-07-24-25.png\u001b[0m\n",
      "-rw-r--r--  1 deduva deduva  81691 Aug 28 15:11 \u001b[01;35m2022-05-15-07-25-15.png\u001b[0m\n",
      "drwxr-xr-x  2 deduva deduva   4096 Aug 28 15:11 \u001b[01;34m_action_files\u001b[0m\n",
      "drwxr-xr-x  4 deduva deduva   4096 Aug 28 15:11 \u001b[01;34massets\u001b[0m\n",
      "-rw-r--r--  1 deduva deduva   3606 Aug 28 15:11 _config.yml\n",
      "-rw-r--r--  1 deduva deduva    420 Aug 28 15:11 .devcontainer.json\n",
      "-rwxr-xr-x  1 deduva deduva   1136 Aug 28 15:11 \u001b[01;32mdocker-compose.yml\u001b[0m\n",
      "drwxr-xr-x  2 deduva deduva   4096 Aug 28 15:11 \u001b[01;34m_fastpages_docs\u001b[0m\n",
      "-rwxr-xr-x  1 deduva deduva   1304 Aug 28 15:11 \u001b[01;32mGemfile\u001b[0m\n",
      "drwxr-xr-x  8 deduva deduva   4096 Aug 28 15:11 \u001b[01;34m.git\u001b[0m\n",
      "-rw-r--r--  1 deduva deduva     84 Aug 28 15:11 .gitattributes\n",
      "drwxr-xr-x  4 deduva deduva   4096 Aug 28 15:11 \u001b[01;34m.github\u001b[0m\n",
      "-rw-r--r--  1 deduva deduva    161 Aug 28 15:11 .gitignore\n",
      "drwxr-xr-x  3 deduva deduva   4096 Aug 28 15:11 \u001b[01;34mimages\u001b[0m\n",
      "drwxr-xr-x  2 deduva deduva   4096 Aug 28 15:11 \u001b[01;34m_includes\u001b[0m\n",
      "-rw-r--r--  1 deduva deduva    134 Aug 28 15:11 index.html\n",
      "drwxr-xr-x  2 deduva deduva   4096 Aug 28 15:11 \u001b[01;34m_layouts\u001b[0m\n",
      "-rw-r--r--  1 deduva deduva  11351 Aug 28 15:11 LICENSE\n",
      "-rwxr-xr-x  1 deduva deduva   1422 Aug 28 15:11 \u001b[01;32mMakefile\u001b[0m\n",
      "drwxr-xr-x  4 deduva deduva   4096 Aug 28 15:11 \u001b[01;34m_notebooks\u001b[0m\n",
      "drwxr-xr-x  2 deduva deduva   4096 Aug 28 15:11 \u001b[01;34m_pages\u001b[0m\n",
      "drwxr-xr-x  2 deduva deduva   4096 Aug 28 15:11 \u001b[01;34m_plugins\u001b[0m\n",
      "drwxr-xr-x  2 deduva deduva   4096 Aug 28 15:11 \u001b[01;34m_posts\u001b[0m\n",
      "-rwxr-xr-x  1 deduva deduva   3602 Aug 28 15:11 \u001b[01;32mREADME.md\u001b[0m\n",
      "drwxr-xr-x  3 deduva deduva   4096 Aug 28 15:11 \u001b[01;34m_sass\u001b[0m\n",
      "drwxr-xr-x  2 deduva deduva   4096 Aug 28 15:11 \u001b[01;34m_word\u001b[0m\n",
      "\u001b[?2004h"
     ]
    },
    {
     "ename": "",
     "evalue": "1",
     "output_type": "error",
     "traceback": []
    }
   ],
   "source": [
    "echo \"Navigate to project, then navigate to area wwhere files were cloned\"\n",
    "cd $project\n",
    "pwd\n",
    "\n",
    "echo \"\"\n",
    "echo \"list top level or root of files with project pulled from github\"\n",
    "ls\n",
    "\n",
    "echo \"\"\n",
    "echo \"list again with hidden files pulled from github\"\n",
    "ls -a   # hidden files flag, many shell commands have flags\n",
    "\n",
    "echo \"\"\n",
    "echo \"list all files in long format\"\n",
    "ls -al   # all files and long listing"
   ]
  },
  {
   "cell_type": "code",
   "execution_count": 3,
   "metadata": {
    "vscode": {
     "languageId": "shellscript"
    }
   },
   "outputs": [
    {
     "name": "stdout",
     "output_type": "stream",
     "text": [
      "Look for posts\n",
      "/home/deduva/Bash_Notebook/Fastpages/_posts\n",
      "total 4h\u001b[?2004l\n",
      "-rw-r--r-- 1 deduva deduva 40 Aug 28 15:11 Markdown_Post.md\n",
      "\u001b[?2004h"
     ]
    },
    {
     "ename": "",
     "evalue": "1",
     "output_type": "error",
     "traceback": []
    }
   ],
   "source": [
    "echo \"Look for posts\"\n",
    "export posts=$project/_posts  # _posts inside project\n",
    "cd $posts  # this should exist per fastpages\n",
    "pwd  # present working directory\n",
    "ls -l  # list posts"
   ]
  },
  {
   "cell_type": "code",
   "execution_count": 4,
   "metadata": {
    "vscode": {
     "languageId": "shellscript"
    }
   },
   "outputs": [
    {
     "name": "stdout",
     "output_type": "stream",
     "text": [
      "Look for notebooks\n",
      "/home/deduva/Bash_Notebook/Fastpages/_notebooks\n",
      "total 16\u001b[?2004l\n",
      "-rw-r--r-- 1 deduva deduva  689 Aug 28 15:11 2022_08_23_Jupyter_Blog.ipynb\n",
      "drwxr-xr-x 2 deduva deduva 4096 Aug 28 15:11 \u001b[0m\u001b[01;34mghtop_images\u001b[0m\n",
      "drwxr-xr-x 2 deduva deduva 4096 Aug 28 15:11 \u001b[01;34mmy_icons\u001b[0m\n",
      "-rw-r--r-- 1 deduva deduva  771 Aug 28 15:11 README.md\n",
      "\u001b[?2004h"
     ]
    },
    {
     "ename": "",
     "evalue": "1",
     "output_type": "error",
     "traceback": []
    }
   ],
   "source": [
    "echo \"Look for notebooks\"\n",
    "export notebooks=$project/_notebooks  # _notebooks is inside project\n",
    "cd $notebooks   # this should exist per fastpages\n",
    "pwd  # present working directory\n",
    "ls -l  # list notebooks"
   ]
  },
  {
   "cell_type": "code",
   "execution_count": 5,
   "metadata": {
    "vscode": {
     "languageId": "shellscript"
    }
   },
   "outputs": [
    {
     "name": "stdout",
     "output_type": "stream",
     "text": [
      "Look for images in notebooks, print working directory, list files\n",
      "bash: cd: /home/deduva/Bash_Notebook/Fastpages/_notebooks/images: No such file or directory\n",
      "/home/deduva/Bash_Notebook/Fastpages/_notebooks\n",
      "total 16\u001b[?2004l\n",
      "-rw-r--r-- 1 deduva deduva  689 Aug 28 15:11 2022_08_23_Jupyter_Blog.ipynb\n",
      "drwxr-xr-x 2 deduva deduva 4096 Aug 28 15:11 \u001b[0m\u001b[01;34mghtop_images\u001b[0m\n",
      "drwxr-xr-x 2 deduva deduva 4096 Aug 28 15:11 \u001b[01;34mmy_icons\u001b[0m\n",
      "-rw-r--r-- 1 deduva deduva  771 Aug 28 15:11 README.md\n",
      "\u001b[?2004h"
     ]
    },
    {
     "ename": "",
     "evalue": "1",
     "output_type": "error",
     "traceback": []
    }
   ],
   "source": [
    "echo \"Look for images in notebooks, print working directory, list files\"\n",
    "cd $notebooks/images  # this should exist per fastpages\n",
    "pwd\n",
    "ls -l"
   ]
  },
  {
   "cell_type": "code",
   "execution_count": 1,
   "metadata": {
    "vscode": {
     "languageId": "shellscript"
    }
   },
   "outputs": [
    {
     "name": "stdout",
     "output_type": "stream",
     "text": [
      "Navigate to project, then navigate to area wwhere files were cloned\n",
      "show the contents of README.md4l\n",
      "\u001b[?2004h\u001b[?2004l\n",
      "cat: README.md: No such file or directory\n",
      "\u001b[?2004h\u001b[?2004l\n",
      "end of README.md\n",
      "\u001b[?2004h"
     ]
    },
    {
     "ename": "",
     "evalue": "1",
     "output_type": "error",
     "traceback": []
    }
   ],
   "source": [
    "echo \"Navigate to project, then navigate to area wwhere files were cloned\"\n",
    "\n",
    "cd $project\n",
    "echo \"show the contents of README.md\"\n",
    "echo \"\"\n",
    "\n",
    "cat README.md  # show contents of file, in this case markdown\n",
    "echo \"\"\n",
    "echo \"end of README.md\""
   ]
  },
  {
   "cell_type": "code",
   "execution_count": 1,
   "metadata": {
    "vscode": {
     "languageId": "shellscript"
    }
   },
   "outputs": [
    {
     "name": "stdout",
     "output_type": "stream",
     "text": [
      "\u001b[?2004h\u001b[?2004l\u001b[?2004l\u001b[?2004l\u001b[?2004l\u001b[?2004l\u001b[?2004l\u001b[?2004l\u001b[?2004l\u001b[?2004l\u001b[?2004l\u001b[?2004l\u001b[?2004l\u001b[?2004l\u001b[?2004l\u001b[?2004l\u001b[?2004l\u001b[?2004l\u001b[?2004l\u001b[?2004l\u001b[?2004l\u001b[?2004l\u001b[?2004l\u001b[?2004l\n",
      "File listing and status\n",
      "-rw-r--r-- 1 deduva deduva 813 Aug 28 22:49 sample.md\n",
      " 15 132 813 sample.md\n",
      "mdless: command not found\n",
      "mdless: command not found[?2004l\n",
      "rm: cannot remove 'sample.md': No such file or directory\n",
      "\u001b[?2004h"
     ]
    },
    {
     "ename": "",
     "evalue": "1",
     "output_type": "error",
     "traceback": []
    }
   ],
   "source": [
    "cd /tmp\n",
    "\n",
    "file=\"sample.md\"\n",
    "if [ -f \"$file\" ]; then\n",
    "    rm $file\n",
    "fi\n",
    "\n",
    "tee -a $file >/dev/null <<EOF\n",
    "# Show Generated Markdown\n",
    "This introductory paragraph and this line and the title above are generated using tee with the standard input (<<) redirection operator.\n",
    "- This bulleted element is still part of the tee body.\n",
    "EOF\n",
    "\n",
    "echo \"- This bulleted element and lines below are generated using echo with standard output (>>) redirection operator.\" >> $file\n",
    "echo \"- The list definition, as is, is using space to seperate lines.  Thus the use of commas and hyphens in output.\" >> $file\n",
    "actions=(\"ls,list-directory\" \"cd,change-directory\" \"pwd,present-working-directory\" \"if-then-fi,test-condition\" \"env,bash-environment-variables\" \"cat,view-file-contents\" \"tee,write-to-output\" \"echo,display-content-of-string\" \"echotext>$file,write-content-to-file\" \"echotext>>$file,append-content-to-file\")\n",
    "for action in ${actions[@]}; do  # for loop is very similar to other language, though [@], semi-colon, do are new\n",
    "  action=${action//-/ }  # convert dash to space\n",
    "  action=${action//,/: } # convert comma to colon\n",
    "  action=${action//text/ \"sample text\" } # convert text to sample text, note escape character \\ to avoid \"\" having meaning\n",
    "  echo \"    - ${action//-/ }\" >> $file  # echo is redirected to file with >>\n",
    "done\n",
    "\n",
    "echo \"\"\n",
    "echo \"File listing and status\"\n",
    "ls -l $file # list file\n",
    "wc $file   # show words\n",
    "export TERM=ansi\n",
    "mdless $file  # this requires installation, but renders markown from terminal\n",
    "\n",
    "rm $file  # clean up termporary file\n",
    "mdless $file  # this requires installation, but renders markown from terminal\n",
    "\n",
    "rm $file  # clean up termporary file"
   ]
  }
 ],
 "metadata": {
  "kernelspec": {
   "display_name": "Bash",
   "language": "bash",
   "name": "bash"
  },
  "language_info": {
   "codemirror_mode": "shell",
   "file_extension": ".sh",
   "mimetype": "text/x-sh",
   "name": "bash"
  },
  "orig_nbformat": 4
 },
 "nbformat": 4,
 "nbformat_minor": 2
}
